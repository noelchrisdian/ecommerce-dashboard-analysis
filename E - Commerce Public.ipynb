{
  "cells": [
    {
      "cell_type": "markdown",
      "metadata": {
        "id": "H9wADwK78DCz"
      },
      "source": [
        "# Proyek Analisis Data : E - Commerce Public Dataset\n",
        "- **Nama:** Noel Chrisdian\n",
        "- **Email:** noelchrisdian@gmail.com\n",
        "- **ID Dicoding:** noel_chrisdian"
      ]
    },
    {
      "cell_type": "markdown",
      "metadata": {
        "id": "eE0raob58DC0"
      },
      "source": [
        "## Menentukan Pertanyaan Bisnis"
      ]
    },
    {
      "cell_type": "markdown",
      "metadata": {
        "id": "Pjo61z_iXNXm"
      },
      "source": [
        "- Bagaimana distribusi jumlah pesanan berdasarkan status pesanan?\n",
        "- Bagaimana perbedaan waktu pengiriman antara tanggal estimasi dengan tanggal pengiriman aktual?\n",
        "- Bagaimana distribusi jumlah pesanan berdasarkan kota pelanggan?\n",
        "- Bagaimana distribusi score review?\n",
        "- Apa kategori barang yang paling banyak dipesan?\n",
        "- Bagaimana distribusi jumlah pesanan berdasarkan metode pembayaran?"
      ]
    },
    {
      "cell_type": "markdown",
      "metadata": {
        "id": "H-z4QGlO8DC1"
      },
      "source": [
        "## Import Library yang Digunakan"
      ]
    },
    {
      "cell_type": "code",
      "execution_count": 1,
      "metadata": {
        "colab": {
          "base_uri": "https://localhost:8080/"
        },
        "id": "FVYwaObI8DC1",
        "outputId": "a6772457-22fe-44a4-9511-214efb5016f8"
      },
      "outputs": [],
      "source": [
        "import pandas as pd\n",
        "import matplotlib.pyplot as plt\n",
        "import seaborn as sns"
      ]
    },
    {
      "cell_type": "markdown",
      "metadata": {
        "id": "h_Sh51Xy8DC1"
      },
      "source": [
        "## Data Wrangling"
      ]
    },
    {
      "cell_type": "markdown",
      "metadata": {
        "id": "sXU2GBYu8DC1"
      },
      "source": [
        "### Gathering Data"
      ]
    },
    {
      "cell_type": "markdown",
      "metadata": {
        "id": "QRhjxjoQ1-nR"
      },
      "source": [
        "#### Load Product Dataset"
      ]
    },
    {
      "cell_type": "code",
      "execution_count": 2,
      "metadata": {
        "colab": {
          "base_uri": "https://localhost:8080/",
          "height": 226
        },
        "id": "zjCBk1BI8DC1",
        "outputId": "76b302e6-fe57-4037-994e-e2692b48f6b7"
      },
      "outputs": [
        {
          "data": {
            "text/html": [
              "<div>\n",
              "<style scoped>\n",
              "    .dataframe tbody tr th:only-of-type {\n",
              "        vertical-align: middle;\n",
              "    }\n",
              "\n",
              "    .dataframe tbody tr th {\n",
              "        vertical-align: top;\n",
              "    }\n",
              "\n",
              "    .dataframe thead th {\n",
              "        text-align: right;\n",
              "    }\n",
              "</style>\n",
              "<table border=\"1\" class=\"dataframe\">\n",
              "  <thead>\n",
              "    <tr style=\"text-align: right;\">\n",
              "      <th></th>\n",
              "      <th>product_id</th>\n",
              "      <th>product_category_name</th>\n",
              "      <th>product_name_lenght</th>\n",
              "      <th>product_description_lenght</th>\n",
              "      <th>product_photos_qty</th>\n",
              "      <th>product_weight_g</th>\n",
              "      <th>product_length_cm</th>\n",
              "      <th>product_height_cm</th>\n",
              "      <th>product_width_cm</th>\n",
              "    </tr>\n",
              "  </thead>\n",
              "  <tbody>\n",
              "    <tr>\n",
              "      <th>0</th>\n",
              "      <td>1e9e8ef04dbcff4541ed26657ea517e5</td>\n",
              "      <td>perfumaria</td>\n",
              "      <td>40.0</td>\n",
              "      <td>287.0</td>\n",
              "      <td>1.0</td>\n",
              "      <td>225.0</td>\n",
              "      <td>16.0</td>\n",
              "      <td>10.0</td>\n",
              "      <td>14.0</td>\n",
              "    </tr>\n",
              "    <tr>\n",
              "      <th>1</th>\n",
              "      <td>3aa071139cb16b67ca9e5dea641aaa2f</td>\n",
              "      <td>artes</td>\n",
              "      <td>44.0</td>\n",
              "      <td>276.0</td>\n",
              "      <td>1.0</td>\n",
              "      <td>1000.0</td>\n",
              "      <td>30.0</td>\n",
              "      <td>18.0</td>\n",
              "      <td>20.0</td>\n",
              "    </tr>\n",
              "    <tr>\n",
              "      <th>2</th>\n",
              "      <td>96bd76ec8810374ed1b65e291975717f</td>\n",
              "      <td>esporte_lazer</td>\n",
              "      <td>46.0</td>\n",
              "      <td>250.0</td>\n",
              "      <td>1.0</td>\n",
              "      <td>154.0</td>\n",
              "      <td>18.0</td>\n",
              "      <td>9.0</td>\n",
              "      <td>15.0</td>\n",
              "    </tr>\n",
              "    <tr>\n",
              "      <th>3</th>\n",
              "      <td>cef67bcfe19066a932b7673e239eb23d</td>\n",
              "      <td>bebes</td>\n",
              "      <td>27.0</td>\n",
              "      <td>261.0</td>\n",
              "      <td>1.0</td>\n",
              "      <td>371.0</td>\n",
              "      <td>26.0</td>\n",
              "      <td>4.0</td>\n",
              "      <td>26.0</td>\n",
              "    </tr>\n",
              "    <tr>\n",
              "      <th>4</th>\n",
              "      <td>9dc1a7de274444849c219cff195d0b71</td>\n",
              "      <td>utilidades_domesticas</td>\n",
              "      <td>37.0</td>\n",
              "      <td>402.0</td>\n",
              "      <td>4.0</td>\n",
              "      <td>625.0</td>\n",
              "      <td>20.0</td>\n",
              "      <td>17.0</td>\n",
              "      <td>13.0</td>\n",
              "    </tr>\n",
              "  </tbody>\n",
              "</table>\n",
              "</div>"
            ],
            "text/plain": [
              "                         product_id  product_category_name  \\\n",
              "0  1e9e8ef04dbcff4541ed26657ea517e5             perfumaria   \n",
              "1  3aa071139cb16b67ca9e5dea641aaa2f                  artes   \n",
              "2  96bd76ec8810374ed1b65e291975717f          esporte_lazer   \n",
              "3  cef67bcfe19066a932b7673e239eb23d                  bebes   \n",
              "4  9dc1a7de274444849c219cff195d0b71  utilidades_domesticas   \n",
              "\n",
              "   product_name_lenght  product_description_lenght  product_photos_qty  \\\n",
              "0                 40.0                       287.0                 1.0   \n",
              "1                 44.0                       276.0                 1.0   \n",
              "2                 46.0                       250.0                 1.0   \n",
              "3                 27.0                       261.0                 1.0   \n",
              "4                 37.0                       402.0                 4.0   \n",
              "\n",
              "   product_weight_g  product_length_cm  product_height_cm  product_width_cm  \n",
              "0             225.0               16.0               10.0              14.0  \n",
              "1            1000.0               30.0               18.0              20.0  \n",
              "2             154.0               18.0                9.0              15.0  \n",
              "3             371.0               26.0                4.0              26.0  \n",
              "4             625.0               20.0               17.0              13.0  "
            ]
          },
          "execution_count": 2,
          "metadata": {},
          "output_type": "execute_result"
        }
      ],
      "source": [
        "products = pd.read_csv('./Data/products_dataset.csv')\n",
        "products.head()"
      ]
    },
    {
      "cell_type": "code",
      "execution_count": 3,
      "metadata": {
        "colab": {
          "base_uri": "https://localhost:8080/",
          "height": 206
        },
        "id": "kfo5IibgVMMJ",
        "outputId": "0c77139c-f17e-4306-d233-1487765e578d"
      },
      "outputs": [
        {
          "data": {
            "text/html": [
              "<div>\n",
              "<style scoped>\n",
              "    .dataframe tbody tr th:only-of-type {\n",
              "        vertical-align: middle;\n",
              "    }\n",
              "\n",
              "    .dataframe tbody tr th {\n",
              "        vertical-align: top;\n",
              "    }\n",
              "\n",
              "    .dataframe thead th {\n",
              "        text-align: right;\n",
              "    }\n",
              "</style>\n",
              "<table border=\"1\" class=\"dataframe\">\n",
              "  <thead>\n",
              "    <tr style=\"text-align: right;\">\n",
              "      <th></th>\n",
              "      <th>product_category_name</th>\n",
              "      <th>product_category_name_english</th>\n",
              "    </tr>\n",
              "  </thead>\n",
              "  <tbody>\n",
              "    <tr>\n",
              "      <th>0</th>\n",
              "      <td>beleza_saude</td>\n",
              "      <td>health_beauty</td>\n",
              "    </tr>\n",
              "    <tr>\n",
              "      <th>1</th>\n",
              "      <td>informatica_acessorios</td>\n",
              "      <td>computers_accessories</td>\n",
              "    </tr>\n",
              "    <tr>\n",
              "      <th>2</th>\n",
              "      <td>automotivo</td>\n",
              "      <td>auto</td>\n",
              "    </tr>\n",
              "    <tr>\n",
              "      <th>3</th>\n",
              "      <td>cama_mesa_banho</td>\n",
              "      <td>bed_bath_table</td>\n",
              "    </tr>\n",
              "    <tr>\n",
              "      <th>4</th>\n",
              "      <td>moveis_decoracao</td>\n",
              "      <td>furniture_decor</td>\n",
              "    </tr>\n",
              "  </tbody>\n",
              "</table>\n",
              "</div>"
            ],
            "text/plain": [
              "    product_category_name product_category_name_english\n",
              "0            beleza_saude                 health_beauty\n",
              "1  informatica_acessorios         computers_accessories\n",
              "2              automotivo                          auto\n",
              "3         cama_mesa_banho                bed_bath_table\n",
              "4        moveis_decoracao               furniture_decor"
            ]
          },
          "execution_count": 3,
          "metadata": {},
          "output_type": "execute_result"
        }
      ],
      "source": [
        "translation = pd.read_csv('./Data/product_category_name_translation.csv')\n",
        "translation.head()"
      ]
    },
    {
      "cell_type": "markdown",
      "metadata": {
        "id": "X5kR41cM4KtL"
      },
      "source": [
        "#### Load Seller Dataset"
      ]
    },
    {
      "cell_type": "code",
      "execution_count": 4,
      "metadata": {
        "colab": {
          "base_uri": "https://localhost:8080/",
          "height": 206
        },
        "id": "qGYgTvRX4dML",
        "outputId": "2741b6d5-a5fc-4f33-db8d-66f178a69b9e"
      },
      "outputs": [
        {
          "data": {
            "text/html": [
              "<div>\n",
              "<style scoped>\n",
              "    .dataframe tbody tr th:only-of-type {\n",
              "        vertical-align: middle;\n",
              "    }\n",
              "\n",
              "    .dataframe tbody tr th {\n",
              "        vertical-align: top;\n",
              "    }\n",
              "\n",
              "    .dataframe thead th {\n",
              "        text-align: right;\n",
              "    }\n",
              "</style>\n",
              "<table border=\"1\" class=\"dataframe\">\n",
              "  <thead>\n",
              "    <tr style=\"text-align: right;\">\n",
              "      <th></th>\n",
              "      <th>seller_id</th>\n",
              "      <th>seller_zip_code_prefix</th>\n",
              "      <th>seller_city</th>\n",
              "      <th>seller_state</th>\n",
              "    </tr>\n",
              "  </thead>\n",
              "  <tbody>\n",
              "    <tr>\n",
              "      <th>0</th>\n",
              "      <td>3442f8959a84dea7ee197c632cb2df15</td>\n",
              "      <td>13023</td>\n",
              "      <td>campinas</td>\n",
              "      <td>SP</td>\n",
              "    </tr>\n",
              "    <tr>\n",
              "      <th>1</th>\n",
              "      <td>d1b65fc7debc3361ea86b5f14c68d2e2</td>\n",
              "      <td>13844</td>\n",
              "      <td>mogi guacu</td>\n",
              "      <td>SP</td>\n",
              "    </tr>\n",
              "    <tr>\n",
              "      <th>2</th>\n",
              "      <td>ce3ad9de960102d0677a81f5d0bb7b2d</td>\n",
              "      <td>20031</td>\n",
              "      <td>rio de janeiro</td>\n",
              "      <td>RJ</td>\n",
              "    </tr>\n",
              "    <tr>\n",
              "      <th>3</th>\n",
              "      <td>c0f3eea2e14555b6faeea3dd58c1b1c3</td>\n",
              "      <td>4195</td>\n",
              "      <td>sao paulo</td>\n",
              "      <td>SP</td>\n",
              "    </tr>\n",
              "    <tr>\n",
              "      <th>4</th>\n",
              "      <td>51a04a8a6bdcb23deccc82b0b80742cf</td>\n",
              "      <td>12914</td>\n",
              "      <td>braganca paulista</td>\n",
              "      <td>SP</td>\n",
              "    </tr>\n",
              "  </tbody>\n",
              "</table>\n",
              "</div>"
            ],
            "text/plain": [
              "                          seller_id  seller_zip_code_prefix  \\\n",
              "0  3442f8959a84dea7ee197c632cb2df15                   13023   \n",
              "1  d1b65fc7debc3361ea86b5f14c68d2e2                   13844   \n",
              "2  ce3ad9de960102d0677a81f5d0bb7b2d                   20031   \n",
              "3  c0f3eea2e14555b6faeea3dd58c1b1c3                    4195   \n",
              "4  51a04a8a6bdcb23deccc82b0b80742cf                   12914   \n",
              "\n",
              "         seller_city seller_state  \n",
              "0           campinas           SP  \n",
              "1         mogi guacu           SP  \n",
              "2     rio de janeiro           RJ  \n",
              "3          sao paulo           SP  \n",
              "4  braganca paulista           SP  "
            ]
          },
          "execution_count": 4,
          "metadata": {},
          "output_type": "execute_result"
        }
      ],
      "source": [
        "sellers = pd.read_csv('./Data/sellers_dataset.csv', encoding='latin1')\n",
        "sellers.head()"
      ]
    },
    {
      "cell_type": "markdown",
      "metadata": {
        "id": "LWzvCRpb5FYh"
      },
      "source": [
        "#### Load Customers Dataset"
      ]
    },
    {
      "cell_type": "code",
      "execution_count": 5,
      "metadata": {
        "colab": {
          "base_uri": "https://localhost:8080/",
          "height": 261
        },
        "id": "qP6_uKrX5JY4",
        "outputId": "c80b04c0-c0aa-4dc0-a5db-b8a16350d6d8"
      },
      "outputs": [
        {
          "data": {
            "text/html": [
              "<div>\n",
              "<style scoped>\n",
              "    .dataframe tbody tr th:only-of-type {\n",
              "        vertical-align: middle;\n",
              "    }\n",
              "\n",
              "    .dataframe tbody tr th {\n",
              "        vertical-align: top;\n",
              "    }\n",
              "\n",
              "    .dataframe thead th {\n",
              "        text-align: right;\n",
              "    }\n",
              "</style>\n",
              "<table border=\"1\" class=\"dataframe\">\n",
              "  <thead>\n",
              "    <tr style=\"text-align: right;\">\n",
              "      <th></th>\n",
              "      <th>customer_id</th>\n",
              "      <th>customer_unique_id</th>\n",
              "      <th>customer_zip_code_prefix</th>\n",
              "      <th>customer_city</th>\n",
              "      <th>customer_state</th>\n",
              "    </tr>\n",
              "  </thead>\n",
              "  <tbody>\n",
              "    <tr>\n",
              "      <th>0</th>\n",
              "      <td>06b8999e2fba1a1fbc88172c00ba8bc7</td>\n",
              "      <td>861eff4711a542e4b93843c6dd7febb0</td>\n",
              "      <td>14409</td>\n",
              "      <td>franca</td>\n",
              "      <td>SP</td>\n",
              "    </tr>\n",
              "    <tr>\n",
              "      <th>1</th>\n",
              "      <td>18955e83d337fd6b2def6b18a428ac77</td>\n",
              "      <td>290c77bc529b7ac935b93aa66c333dc3</td>\n",
              "      <td>9790</td>\n",
              "      <td>sao bernardo do campo</td>\n",
              "      <td>SP</td>\n",
              "    </tr>\n",
              "    <tr>\n",
              "      <th>2</th>\n",
              "      <td>4e7b3e00288586ebd08712fdd0374a03</td>\n",
              "      <td>060e732b5b29e8181a18229c7b0b2b5e</td>\n",
              "      <td>1151</td>\n",
              "      <td>sao paulo</td>\n",
              "      <td>SP</td>\n",
              "    </tr>\n",
              "    <tr>\n",
              "      <th>3</th>\n",
              "      <td>b2b6027bc5c5109e529d4dc6358b12c3</td>\n",
              "      <td>259dac757896d24d7702b9acbbff3f3c</td>\n",
              "      <td>8775</td>\n",
              "      <td>mogi das cruzes</td>\n",
              "      <td>SP</td>\n",
              "    </tr>\n",
              "    <tr>\n",
              "      <th>4</th>\n",
              "      <td>4f2d8ab171c80ec8364f7c12e35b23ad</td>\n",
              "      <td>345ecd01c38d18a9036ed96c73b8d066</td>\n",
              "      <td>13056</td>\n",
              "      <td>campinas</td>\n",
              "      <td>SP</td>\n",
              "    </tr>\n",
              "  </tbody>\n",
              "</table>\n",
              "</div>"
            ],
            "text/plain": [
              "                        customer_id                customer_unique_id  \\\n",
              "0  06b8999e2fba1a1fbc88172c00ba8bc7  861eff4711a542e4b93843c6dd7febb0   \n",
              "1  18955e83d337fd6b2def6b18a428ac77  290c77bc529b7ac935b93aa66c333dc3   \n",
              "2  4e7b3e00288586ebd08712fdd0374a03  060e732b5b29e8181a18229c7b0b2b5e   \n",
              "3  b2b6027bc5c5109e529d4dc6358b12c3  259dac757896d24d7702b9acbbff3f3c   \n",
              "4  4f2d8ab171c80ec8364f7c12e35b23ad  345ecd01c38d18a9036ed96c73b8d066   \n",
              "\n",
              "   customer_zip_code_prefix          customer_city customer_state  \n",
              "0                     14409                 franca             SP  \n",
              "1                      9790  sao bernardo do campo             SP  \n",
              "2                      1151              sao paulo             SP  \n",
              "3                      8775        mogi das cruzes             SP  \n",
              "4                     13056               campinas             SP  "
            ]
          },
          "execution_count": 5,
          "metadata": {},
          "output_type": "execute_result"
        }
      ],
      "source": [
        "customers = pd.read_csv('./Data/customers_dataset.csv')\n",
        "customers.head()"
      ]
    },
    {
      "cell_type": "markdown",
      "metadata": {
        "id": "LknaiLqI5ce0"
      },
      "source": [
        "#### Load Order Dataset"
      ]
    },
    {
      "cell_type": "code",
      "execution_count": 6,
      "metadata": {
        "colab": {
          "base_uri": "https://localhost:8080/",
          "height": 226
        },
        "id": "edJsy5i55iJ_",
        "outputId": "5c0e7e0c-933b-479d-e2b4-197103522404"
      },
      "outputs": [
        {
          "data": {
            "text/html": [
              "<div>\n",
              "<style scoped>\n",
              "    .dataframe tbody tr th:only-of-type {\n",
              "        vertical-align: middle;\n",
              "    }\n",
              "\n",
              "    .dataframe tbody tr th {\n",
              "        vertical-align: top;\n",
              "    }\n",
              "\n",
              "    .dataframe thead th {\n",
              "        text-align: right;\n",
              "    }\n",
              "</style>\n",
              "<table border=\"1\" class=\"dataframe\">\n",
              "  <thead>\n",
              "    <tr style=\"text-align: right;\">\n",
              "      <th></th>\n",
              "      <th>order_id</th>\n",
              "      <th>customer_id</th>\n",
              "      <th>order_status</th>\n",
              "      <th>order_purchase_timestamp</th>\n",
              "      <th>order_approved_at</th>\n",
              "      <th>order_delivered_carrier_date</th>\n",
              "      <th>order_delivered_customer_date</th>\n",
              "      <th>order_estimated_delivery_date</th>\n",
              "    </tr>\n",
              "  </thead>\n",
              "  <tbody>\n",
              "    <tr>\n",
              "      <th>0</th>\n",
              "      <td>e481f51cbdc54678b7cc49136f2d6af7</td>\n",
              "      <td>9ef432eb6251297304e76186b10a928d</td>\n",
              "      <td>delivered</td>\n",
              "      <td>02/10/2017 10:56</td>\n",
              "      <td>02/10/2017 11:07</td>\n",
              "      <td>04/10/2017 19:55</td>\n",
              "      <td>10/10/2017 21:25</td>\n",
              "      <td>18/10/2017 00:00</td>\n",
              "    </tr>\n",
              "    <tr>\n",
              "      <th>1</th>\n",
              "      <td>53cdb2fc8bc7dce0b6741e2150273451</td>\n",
              "      <td>b0830fb4747a6c6d20dea0b8c802d7ef</td>\n",
              "      <td>delivered</td>\n",
              "      <td>24/07/2018 20:41</td>\n",
              "      <td>26/07/2018 03:24</td>\n",
              "      <td>26/07/2018 14:31</td>\n",
              "      <td>07/08/2018 15:27</td>\n",
              "      <td>13/08/2018 00:00</td>\n",
              "    </tr>\n",
              "    <tr>\n",
              "      <th>2</th>\n",
              "      <td>47770eb9100c2d0c44946d9cf07ec65d</td>\n",
              "      <td>41ce2a54c0b03bf3443c3d931a367089</td>\n",
              "      <td>delivered</td>\n",
              "      <td>08/08/2018 08:38</td>\n",
              "      <td>08/08/2018 08:55</td>\n",
              "      <td>08/08/2018 13:50</td>\n",
              "      <td>17/08/2018 18:06</td>\n",
              "      <td>04/09/2018 00:00</td>\n",
              "    </tr>\n",
              "    <tr>\n",
              "      <th>3</th>\n",
              "      <td>949d5b44dbf5de918fe9c16f97b45f8a</td>\n",
              "      <td>f88197465ea7920adcdbec7375364d82</td>\n",
              "      <td>delivered</td>\n",
              "      <td>18/11/2017 19:28</td>\n",
              "      <td>18/11/2017 19:45</td>\n",
              "      <td>22/11/2017 13:39</td>\n",
              "      <td>02/12/2017 00:28</td>\n",
              "      <td>15/12/2017 00:00</td>\n",
              "    </tr>\n",
              "    <tr>\n",
              "      <th>4</th>\n",
              "      <td>ad21c59c0840e6cb83a9ceb5573f8159</td>\n",
              "      <td>8ab97904e6daea8866dbdbc4fb7aad2c</td>\n",
              "      <td>delivered</td>\n",
              "      <td>13/02/2018 21:18</td>\n",
              "      <td>13/02/2018 22:20</td>\n",
              "      <td>14/02/2018 19:46</td>\n",
              "      <td>16/02/2018 18:17</td>\n",
              "      <td>26/02/2018 00:00</td>\n",
              "    </tr>\n",
              "  </tbody>\n",
              "</table>\n",
              "</div>"
            ],
            "text/plain": [
              "                           order_id                       customer_id  \\\n",
              "0  e481f51cbdc54678b7cc49136f2d6af7  9ef432eb6251297304e76186b10a928d   \n",
              "1  53cdb2fc8bc7dce0b6741e2150273451  b0830fb4747a6c6d20dea0b8c802d7ef   \n",
              "2  47770eb9100c2d0c44946d9cf07ec65d  41ce2a54c0b03bf3443c3d931a367089   \n",
              "3  949d5b44dbf5de918fe9c16f97b45f8a  f88197465ea7920adcdbec7375364d82   \n",
              "4  ad21c59c0840e6cb83a9ceb5573f8159  8ab97904e6daea8866dbdbc4fb7aad2c   \n",
              "\n",
              "  order_status order_purchase_timestamp order_approved_at  \\\n",
              "0    delivered         02/10/2017 10:56  02/10/2017 11:07   \n",
              "1    delivered         24/07/2018 20:41  26/07/2018 03:24   \n",
              "2    delivered         08/08/2018 08:38  08/08/2018 08:55   \n",
              "3    delivered         18/11/2017 19:28  18/11/2017 19:45   \n",
              "4    delivered         13/02/2018 21:18  13/02/2018 22:20   \n",
              "\n",
              "  order_delivered_carrier_date order_delivered_customer_date  \\\n",
              "0             04/10/2017 19:55              10/10/2017 21:25   \n",
              "1             26/07/2018 14:31              07/08/2018 15:27   \n",
              "2             08/08/2018 13:50              17/08/2018 18:06   \n",
              "3             22/11/2017 13:39              02/12/2017 00:28   \n",
              "4             14/02/2018 19:46              16/02/2018 18:17   \n",
              "\n",
              "  order_estimated_delivery_date  \n",
              "0              18/10/2017 00:00  \n",
              "1              13/08/2018 00:00  \n",
              "2              04/09/2018 00:00  \n",
              "3              15/12/2017 00:00  \n",
              "4              26/02/2018 00:00  "
            ]
          },
          "execution_count": 6,
          "metadata": {},
          "output_type": "execute_result"
        }
      ],
      "source": [
        "orders = pd.read_csv('./Data/orders_dataset.csv')\n",
        "orders.head()"
      ]
    },
    {
      "cell_type": "code",
      "execution_count": 7,
      "metadata": {
        "colab": {
          "base_uri": "https://localhost:8080/",
          "height": 261
        },
        "id": "wOJg5iWR51tI",
        "outputId": "fc6893a5-9ecf-4388-8483-916cf23c0141"
      },
      "outputs": [
        {
          "data": {
            "text/html": [
              "<div>\n",
              "<style scoped>\n",
              "    .dataframe tbody tr th:only-of-type {\n",
              "        vertical-align: middle;\n",
              "    }\n",
              "\n",
              "    .dataframe tbody tr th {\n",
              "        vertical-align: top;\n",
              "    }\n",
              "\n",
              "    .dataframe thead th {\n",
              "        text-align: right;\n",
              "    }\n",
              "</style>\n",
              "<table border=\"1\" class=\"dataframe\">\n",
              "  <thead>\n",
              "    <tr style=\"text-align: right;\">\n",
              "      <th></th>\n",
              "      <th>review_id</th>\n",
              "      <th>order_id</th>\n",
              "      <th>review_score</th>\n",
              "      <th>review_comment_title</th>\n",
              "      <th>review_comment_message</th>\n",
              "      <th>review_creation_date</th>\n",
              "      <th>review_answer_timestamp</th>\n",
              "    </tr>\n",
              "  </thead>\n",
              "  <tbody>\n",
              "    <tr>\n",
              "      <th>0</th>\n",
              "      <td>7bc2406110b926393aa56f80a40eba40</td>\n",
              "      <td>73fc7af87114b39712e6da79b0a377eb</td>\n",
              "      <td>4</td>\n",
              "      <td>NaN</td>\n",
              "      <td>NaN</td>\n",
              "      <td>18/01/2018 00:00</td>\n",
              "      <td>18/01/2018 21:46</td>\n",
              "    </tr>\n",
              "    <tr>\n",
              "      <th>1</th>\n",
              "      <td>80e641a11e56f04c1ad469d5645fdfde</td>\n",
              "      <td>a548910a1c6147796b98fdf73dbeba33</td>\n",
              "      <td>5</td>\n",
              "      <td>NaN</td>\n",
              "      <td>NaN</td>\n",
              "      <td>10/03/2018 00:00</td>\n",
              "      <td>11/03/2018 03:05</td>\n",
              "    </tr>\n",
              "    <tr>\n",
              "      <th>2</th>\n",
              "      <td>228ce5500dc1d8e020d8d1322874b6f0</td>\n",
              "      <td>f9e4b658b201a9f2ecdecbb34bed034b</td>\n",
              "      <td>5</td>\n",
              "      <td>NaN</td>\n",
              "      <td>NaN</td>\n",
              "      <td>17/02/2018 00:00</td>\n",
              "      <td>18/02/2018 14:36</td>\n",
              "    </tr>\n",
              "    <tr>\n",
              "      <th>3</th>\n",
              "      <td>e64fb393e7b32834bb789ff8bb30750e</td>\n",
              "      <td>658677c97b385a9be170737859d3511b</td>\n",
              "      <td>5</td>\n",
              "      <td>NaN</td>\n",
              "      <td>Recebi bem antes do prazo estipulado.</td>\n",
              "      <td>21/04/2017 00:00</td>\n",
              "      <td>21/04/2017 22:02</td>\n",
              "    </tr>\n",
              "    <tr>\n",
              "      <th>4</th>\n",
              "      <td>f7c4243c7fe1938f181bec41a392bdeb</td>\n",
              "      <td>8e6bfb81e283fa7e4f11123a3fb894f1</td>\n",
              "      <td>5</td>\n",
              "      <td>NaN</td>\n",
              "      <td>Parabéns lojas lannister adorei comprar pela I...</td>\n",
              "      <td>01/03/2018 00:00</td>\n",
              "      <td>02/03/2018 10:26</td>\n",
              "    </tr>\n",
              "  </tbody>\n",
              "</table>\n",
              "</div>"
            ],
            "text/plain": [
              "                          review_id                          order_id  \\\n",
              "0  7bc2406110b926393aa56f80a40eba40  73fc7af87114b39712e6da79b0a377eb   \n",
              "1  80e641a11e56f04c1ad469d5645fdfde  a548910a1c6147796b98fdf73dbeba33   \n",
              "2  228ce5500dc1d8e020d8d1322874b6f0  f9e4b658b201a9f2ecdecbb34bed034b   \n",
              "3  e64fb393e7b32834bb789ff8bb30750e  658677c97b385a9be170737859d3511b   \n",
              "4  f7c4243c7fe1938f181bec41a392bdeb  8e6bfb81e283fa7e4f11123a3fb894f1   \n",
              "\n",
              "   review_score review_comment_title  \\\n",
              "0             4                  NaN   \n",
              "1             5                  NaN   \n",
              "2             5                  NaN   \n",
              "3             5                  NaN   \n",
              "4             5                  NaN   \n",
              "\n",
              "                              review_comment_message review_creation_date  \\\n",
              "0                                                NaN     18/01/2018 00:00   \n",
              "1                                                NaN     10/03/2018 00:00   \n",
              "2                                                NaN     17/02/2018 00:00   \n",
              "3              Recebi bem antes do prazo estipulado.     21/04/2017 00:00   \n",
              "4  Parabéns lojas lannister adorei comprar pela I...     01/03/2018 00:00   \n",
              "\n",
              "  review_answer_timestamp  \n",
              "0        18/01/2018 21:46  \n",
              "1        11/03/2018 03:05  \n",
              "2        18/02/2018 14:36  \n",
              "3        21/04/2017 22:02  \n",
              "4        02/03/2018 10:26  "
            ]
          },
          "execution_count": 7,
          "metadata": {},
          "output_type": "execute_result"
        }
      ],
      "source": [
        "reviews = pd.read_csv('./Data/order_reviews_dataset.csv', encoding='latin1')\n",
        "reviews.head()"
      ]
    },
    {
      "cell_type": "code",
      "execution_count": 8,
      "metadata": {
        "colab": {
          "base_uri": "https://localhost:8080/",
          "height": 206
        },
        "id": "0ch2AgSS6RgA",
        "outputId": "9ebc2ea2-1149-4ae4-bf81-29e61cec4fd5"
      },
      "outputs": [
        {
          "data": {
            "text/html": [
              "<div>\n",
              "<style scoped>\n",
              "    .dataframe tbody tr th:only-of-type {\n",
              "        vertical-align: middle;\n",
              "    }\n",
              "\n",
              "    .dataframe tbody tr th {\n",
              "        vertical-align: top;\n",
              "    }\n",
              "\n",
              "    .dataframe thead th {\n",
              "        text-align: right;\n",
              "    }\n",
              "</style>\n",
              "<table border=\"1\" class=\"dataframe\">\n",
              "  <thead>\n",
              "    <tr style=\"text-align: right;\">\n",
              "      <th></th>\n",
              "      <th>order_id</th>\n",
              "      <th>payment_sequential</th>\n",
              "      <th>payment_type</th>\n",
              "      <th>payment_installments</th>\n",
              "      <th>payment_value</th>\n",
              "    </tr>\n",
              "  </thead>\n",
              "  <tbody>\n",
              "    <tr>\n",
              "      <th>0</th>\n",
              "      <td>b81ef226f3fe1789b1e8b2acac839d17</td>\n",
              "      <td>1</td>\n",
              "      <td>credit_card</td>\n",
              "      <td>8</td>\n",
              "      <td>99.33</td>\n",
              "    </tr>\n",
              "    <tr>\n",
              "      <th>1</th>\n",
              "      <td>a9810da82917af2d9aefd1278f1dcfa0</td>\n",
              "      <td>1</td>\n",
              "      <td>credit_card</td>\n",
              "      <td>1</td>\n",
              "      <td>24.39</td>\n",
              "    </tr>\n",
              "    <tr>\n",
              "      <th>2</th>\n",
              "      <td>25e8ea4e93396b6fa0d3dd708e76c1bd</td>\n",
              "      <td>1</td>\n",
              "      <td>credit_card</td>\n",
              "      <td>1</td>\n",
              "      <td>65.71</td>\n",
              "    </tr>\n",
              "    <tr>\n",
              "      <th>3</th>\n",
              "      <td>ba78997921bbcdc1373bb41e913ab953</td>\n",
              "      <td>1</td>\n",
              "      <td>credit_card</td>\n",
              "      <td>8</td>\n",
              "      <td>107.78</td>\n",
              "    </tr>\n",
              "    <tr>\n",
              "      <th>4</th>\n",
              "      <td>42fdf880ba16b47b59251dd489d4441a</td>\n",
              "      <td>1</td>\n",
              "      <td>credit_card</td>\n",
              "      <td>2</td>\n",
              "      <td>128.45</td>\n",
              "    </tr>\n",
              "  </tbody>\n",
              "</table>\n",
              "</div>"
            ],
            "text/plain": [
              "                           order_id  payment_sequential payment_type  \\\n",
              "0  b81ef226f3fe1789b1e8b2acac839d17                   1  credit_card   \n",
              "1  a9810da82917af2d9aefd1278f1dcfa0                   1  credit_card   \n",
              "2  25e8ea4e93396b6fa0d3dd708e76c1bd                   1  credit_card   \n",
              "3  ba78997921bbcdc1373bb41e913ab953                   1  credit_card   \n",
              "4  42fdf880ba16b47b59251dd489d4441a                   1  credit_card   \n",
              "\n",
              "   payment_installments  payment_value  \n",
              "0                     8          99.33  \n",
              "1                     1          24.39  \n",
              "2                     1          65.71  \n",
              "3                     8         107.78  \n",
              "4                     2         128.45  "
            ]
          },
          "execution_count": 8,
          "metadata": {},
          "output_type": "execute_result"
        }
      ],
      "source": [
        "payments = pd.read_csv('./Data/order_payments_dataset.csv')\n",
        "payments.head()"
      ]
    },
    {
      "cell_type": "code",
      "execution_count": 9,
      "metadata": {
        "colab": {
          "base_uri": "https://localhost:8080/",
          "height": 226
        },
        "id": "cbckIV9o6jG9",
        "outputId": "544d3f59-0aad-4b0e-933f-45625613bf37"
      },
      "outputs": [
        {
          "data": {
            "text/html": [
              "<div>\n",
              "<style scoped>\n",
              "    .dataframe tbody tr th:only-of-type {\n",
              "        vertical-align: middle;\n",
              "    }\n",
              "\n",
              "    .dataframe tbody tr th {\n",
              "        vertical-align: top;\n",
              "    }\n",
              "\n",
              "    .dataframe thead th {\n",
              "        text-align: right;\n",
              "    }\n",
              "</style>\n",
              "<table border=\"1\" class=\"dataframe\">\n",
              "  <thead>\n",
              "    <tr style=\"text-align: right;\">\n",
              "      <th></th>\n",
              "      <th>order_id</th>\n",
              "      <th>order_item_id</th>\n",
              "      <th>product_id</th>\n",
              "      <th>seller_id</th>\n",
              "      <th>shipping_limit_date</th>\n",
              "      <th>price</th>\n",
              "      <th>freight_value</th>\n",
              "    </tr>\n",
              "  </thead>\n",
              "  <tbody>\n",
              "    <tr>\n",
              "      <th>0</th>\n",
              "      <td>00010242fe8c5a6d1ba2dd792cb16214</td>\n",
              "      <td>1</td>\n",
              "      <td>4244733e06e7ecb4970a6e2683c13e61</td>\n",
              "      <td>48436dade18ac8b2bce089ec2a041202</td>\n",
              "      <td>19/09/2017 09:45</td>\n",
              "      <td>58.90</td>\n",
              "      <td>13.29</td>\n",
              "    </tr>\n",
              "    <tr>\n",
              "      <th>1</th>\n",
              "      <td>00018f77f2f0320c557190d7a144bdd3</td>\n",
              "      <td>1</td>\n",
              "      <td>e5f2d52b802189ee658865ca93d83a8f</td>\n",
              "      <td>dd7ddc04e1b6c2c614352b383efe2d36</td>\n",
              "      <td>03/05/2017 11:05</td>\n",
              "      <td>239.90</td>\n",
              "      <td>19.93</td>\n",
              "    </tr>\n",
              "    <tr>\n",
              "      <th>2</th>\n",
              "      <td>000229ec398224ef6ca0657da4fc703e</td>\n",
              "      <td>1</td>\n",
              "      <td>c777355d18b72b67abbeef9df44fd0fd</td>\n",
              "      <td>5b51032eddd242adc84c38acab88f23d</td>\n",
              "      <td>18/01/2018 14:48</td>\n",
              "      <td>199.00</td>\n",
              "      <td>17.87</td>\n",
              "    </tr>\n",
              "    <tr>\n",
              "      <th>3</th>\n",
              "      <td>00024acbcdf0a6daa1e931b038114c75</td>\n",
              "      <td>1</td>\n",
              "      <td>7634da152a4610f1595efa32f14722fc</td>\n",
              "      <td>9d7a1d34a5052409006425275ba1c2b4</td>\n",
              "      <td>15/08/2018 10:10</td>\n",
              "      <td>12.99</td>\n",
              "      <td>12.79</td>\n",
              "    </tr>\n",
              "    <tr>\n",
              "      <th>4</th>\n",
              "      <td>00042b26cf59d7ce69dfabb4e55b4fd9</td>\n",
              "      <td>1</td>\n",
              "      <td>ac6c3623068f30de03045865e4e10089</td>\n",
              "      <td>df560393f3a51e74553ab94004ba5c87</td>\n",
              "      <td>13/02/2017 13:57</td>\n",
              "      <td>199.90</td>\n",
              "      <td>18.14</td>\n",
              "    </tr>\n",
              "  </tbody>\n",
              "</table>\n",
              "</div>"
            ],
            "text/plain": [
              "                           order_id  order_item_id  \\\n",
              "0  00010242fe8c5a6d1ba2dd792cb16214              1   \n",
              "1  00018f77f2f0320c557190d7a144bdd3              1   \n",
              "2  000229ec398224ef6ca0657da4fc703e              1   \n",
              "3  00024acbcdf0a6daa1e931b038114c75              1   \n",
              "4  00042b26cf59d7ce69dfabb4e55b4fd9              1   \n",
              "\n",
              "                         product_id                         seller_id  \\\n",
              "0  4244733e06e7ecb4970a6e2683c13e61  48436dade18ac8b2bce089ec2a041202   \n",
              "1  e5f2d52b802189ee658865ca93d83a8f  dd7ddc04e1b6c2c614352b383efe2d36   \n",
              "2  c777355d18b72b67abbeef9df44fd0fd  5b51032eddd242adc84c38acab88f23d   \n",
              "3  7634da152a4610f1595efa32f14722fc  9d7a1d34a5052409006425275ba1c2b4   \n",
              "4  ac6c3623068f30de03045865e4e10089  df560393f3a51e74553ab94004ba5c87   \n",
              "\n",
              "  shipping_limit_date   price  freight_value  \n",
              "0    19/09/2017 09:45   58.90          13.29  \n",
              "1    03/05/2017 11:05  239.90          19.93  \n",
              "2    18/01/2018 14:48  199.00          17.87  \n",
              "3    15/08/2018 10:10   12.99          12.79  \n",
              "4    13/02/2017 13:57  199.90          18.14  "
            ]
          },
          "execution_count": 9,
          "metadata": {},
          "output_type": "execute_result"
        }
      ],
      "source": [
        "orderItems = pd.read_csv('./Data/order_items_dataset.csv')\n",
        "orderItems.head()"
      ]
    },
    {
      "cell_type": "markdown",
      "metadata": {
        "id": "FHSiqaZp8DC1"
      },
      "source": [
        "### Assessing Data"
      ]
    },
    {
      "cell_type": "markdown",
      "metadata": {
        "id": "41h_5N2o8-DJ"
      },
      "source": [
        "#### Products Dataset"
      ]
    },
    {
      "cell_type": "code",
      "execution_count": 10,
      "metadata": {
        "colab": {
          "base_uri": "https://localhost:8080/"
        },
        "id": "ax-3tEjc9Cj1",
        "outputId": "dad6fa97-5f81-4a51-b280-f7b15771e4d0"
      },
      "outputs": [
        {
          "name": "stdout",
          "output_type": "stream",
          "text": [
            "<class 'pandas.core.frame.DataFrame'>\n",
            "RangeIndex: 32951 entries, 0 to 32950\n",
            "Data columns (total 9 columns):\n",
            " #   Column                      Non-Null Count  Dtype  \n",
            "---  ------                      --------------  -----  \n",
            " 0   product_id                  32951 non-null  object \n",
            " 1   product_category_name       32341 non-null  object \n",
            " 2   product_name_lenght         32341 non-null  float64\n",
            " 3   product_description_lenght  32341 non-null  float64\n",
            " 4   product_photos_qty          32341 non-null  float64\n",
            " 5   product_weight_g            32949 non-null  float64\n",
            " 6   product_length_cm           32949 non-null  float64\n",
            " 7   product_height_cm           32949 non-null  float64\n",
            " 8   product_width_cm            32949 non-null  float64\n",
            "dtypes: float64(7), object(2)\n",
            "memory usage: 2.3+ MB\n"
          ]
        }
      ],
      "source": [
        "products.info()"
      ]
    },
    {
      "cell_type": "code",
      "execution_count": 11,
      "metadata": {
        "colab": {
          "base_uri": "https://localhost:8080/",
          "height": 366
        },
        "id": "mh-ZCR6S9Hut",
        "outputId": "cef4df75-4d54-4e94-8c55-6adb6d049fb4"
      },
      "outputs": [
        {
          "data": {
            "text/plain": [
              "product_id                      0\n",
              "product_category_name         610\n",
              "product_name_lenght           610\n",
              "product_description_lenght    610\n",
              "product_photos_qty            610\n",
              "product_weight_g                2\n",
              "product_length_cm               2\n",
              "product_height_cm               2\n",
              "product_width_cm                2\n",
              "dtype: int64"
            ]
          },
          "execution_count": 11,
          "metadata": {},
          "output_type": "execute_result"
        }
      ],
      "source": [
        "products.isna().sum()"
      ]
    },
    {
      "cell_type": "code",
      "execution_count": 12,
      "metadata": {
        "colab": {
          "base_uri": "https://localhost:8080/"
        },
        "id": "kQCPiXGJ9U9O",
        "outputId": "56b8dca0-e14c-497e-f677-91619809ff40"
      },
      "outputs": [
        {
          "data": {
            "text/plain": [
              "np.int64(0)"
            ]
          },
          "execution_count": 12,
          "metadata": {},
          "output_type": "execute_result"
        }
      ],
      "source": [
        "products.duplicated().sum()"
      ]
    },
    {
      "cell_type": "markdown",
      "metadata": {
        "id": "0IlVXG0-9gV6"
      },
      "source": [
        "**Insights**\n",
        "- Terdapat banyak missing values pada beberapa kolom\n",
        "- Tidak ditemukan data yang duplikat"
      ]
    },
    {
      "cell_type": "markdown",
      "metadata": {
        "id": "1mXazdSc_7NE"
      },
      "source": [
        "#### Sellers Dataset"
      ]
    },
    {
      "cell_type": "code",
      "execution_count": 13,
      "metadata": {
        "colab": {
          "base_uri": "https://localhost:8080/"
        },
        "id": "wOG7Br6s__bc",
        "outputId": "7527803d-4d85-4f74-8d35-809cd6da7dae"
      },
      "outputs": [
        {
          "name": "stdout",
          "output_type": "stream",
          "text": [
            "<class 'pandas.core.frame.DataFrame'>\n",
            "RangeIndex: 3095 entries, 0 to 3094\n",
            "Data columns (total 4 columns):\n",
            " #   Column                  Non-Null Count  Dtype \n",
            "---  ------                  --------------  ----- \n",
            " 0   seller_id               3095 non-null   object\n",
            " 1   seller_zip_code_prefix  3095 non-null   int64 \n",
            " 2   seller_city             3095 non-null   object\n",
            " 3   seller_state            3095 non-null   object\n",
            "dtypes: int64(1), object(3)\n",
            "memory usage: 96.8+ KB\n"
          ]
        }
      ],
      "source": [
        "sellers.info()"
      ]
    },
    {
      "cell_type": "code",
      "execution_count": 14,
      "metadata": {
        "colab": {
          "base_uri": "https://localhost:8080/",
          "height": 210
        },
        "id": "8pPq-pb2Adyz",
        "outputId": "f9db605e-4d0e-46c0-d58e-865378aafaa1"
      },
      "outputs": [
        {
          "data": {
            "text/plain": [
              "seller_id                 0\n",
              "seller_zip_code_prefix    0\n",
              "seller_city               0\n",
              "seller_state              0\n",
              "dtype: int64"
            ]
          },
          "execution_count": 14,
          "metadata": {},
          "output_type": "execute_result"
        }
      ],
      "source": [
        "sellers.isna().sum()"
      ]
    },
    {
      "cell_type": "code",
      "execution_count": 15,
      "metadata": {
        "colab": {
          "base_uri": "https://localhost:8080/"
        },
        "id": "iSaWecSvAglN",
        "outputId": "967180b5-e786-44a4-dec2-6c4d58b1ca32"
      },
      "outputs": [
        {
          "data": {
            "text/plain": [
              "np.int64(0)"
            ]
          },
          "execution_count": 15,
          "metadata": {},
          "output_type": "execute_result"
        }
      ],
      "source": [
        "sellers.duplicated().sum()"
      ]
    },
    {
      "cell_type": "code",
      "execution_count": 16,
      "metadata": {
        "colab": {
          "base_uri": "https://localhost:8080/",
          "height": 394
        },
        "id": "K2Hwlr5AAxDr",
        "outputId": "9471c367-e9bf-415a-ff19-e5192a014617"
      },
      "outputs": [
        {
          "data": {
            "text/html": [
              "<div>\n",
              "<style scoped>\n",
              "    .dataframe tbody tr th:only-of-type {\n",
              "        vertical-align: middle;\n",
              "    }\n",
              "\n",
              "    .dataframe tbody tr th {\n",
              "        vertical-align: top;\n",
              "    }\n",
              "\n",
              "    .dataframe thead th {\n",
              "        text-align: right;\n",
              "    }\n",
              "</style>\n",
              "<table border=\"1\" class=\"dataframe\">\n",
              "  <thead>\n",
              "    <tr style=\"text-align: right;\">\n",
              "      <th></th>\n",
              "      <th>seller_id</th>\n",
              "      <th>seller_zip_code_prefix</th>\n",
              "      <th>seller_city</th>\n",
              "      <th>seller_state</th>\n",
              "    </tr>\n",
              "  </thead>\n",
              "  <tbody>\n",
              "    <tr>\n",
              "      <th>count</th>\n",
              "      <td>3095</td>\n",
              "      <td>3095.000000</td>\n",
              "      <td>3095</td>\n",
              "      <td>3095</td>\n",
              "    </tr>\n",
              "    <tr>\n",
              "      <th>unique</th>\n",
              "      <td>3095</td>\n",
              "      <td>NaN</td>\n",
              "      <td>611</td>\n",
              "      <td>23</td>\n",
              "    </tr>\n",
              "    <tr>\n",
              "      <th>top</th>\n",
              "      <td>9e25199f6ef7e7c347120ff175652c3b</td>\n",
              "      <td>NaN</td>\n",
              "      <td>sao paulo</td>\n",
              "      <td>SP</td>\n",
              "    </tr>\n",
              "    <tr>\n",
              "      <th>freq</th>\n",
              "      <td>1</td>\n",
              "      <td>NaN</td>\n",
              "      <td>694</td>\n",
              "      <td>1849</td>\n",
              "    </tr>\n",
              "    <tr>\n",
              "      <th>mean</th>\n",
              "      <td>NaN</td>\n",
              "      <td>32291.059451</td>\n",
              "      <td>NaN</td>\n",
              "      <td>NaN</td>\n",
              "    </tr>\n",
              "    <tr>\n",
              "      <th>std</th>\n",
              "      <td>NaN</td>\n",
              "      <td>32713.453830</td>\n",
              "      <td>NaN</td>\n",
              "      <td>NaN</td>\n",
              "    </tr>\n",
              "    <tr>\n",
              "      <th>min</th>\n",
              "      <td>NaN</td>\n",
              "      <td>1001.000000</td>\n",
              "      <td>NaN</td>\n",
              "      <td>NaN</td>\n",
              "    </tr>\n",
              "    <tr>\n",
              "      <th>25%</th>\n",
              "      <td>NaN</td>\n",
              "      <td>7093.500000</td>\n",
              "      <td>NaN</td>\n",
              "      <td>NaN</td>\n",
              "    </tr>\n",
              "    <tr>\n",
              "      <th>50%</th>\n",
              "      <td>NaN</td>\n",
              "      <td>14940.000000</td>\n",
              "      <td>NaN</td>\n",
              "      <td>NaN</td>\n",
              "    </tr>\n",
              "    <tr>\n",
              "      <th>75%</th>\n",
              "      <td>NaN</td>\n",
              "      <td>64552.500000</td>\n",
              "      <td>NaN</td>\n",
              "      <td>NaN</td>\n",
              "    </tr>\n",
              "    <tr>\n",
              "      <th>max</th>\n",
              "      <td>NaN</td>\n",
              "      <td>99730.000000</td>\n",
              "      <td>NaN</td>\n",
              "      <td>NaN</td>\n",
              "    </tr>\n",
              "  </tbody>\n",
              "</table>\n",
              "</div>"
            ],
            "text/plain": [
              "                               seller_id  seller_zip_code_prefix seller_city  \\\n",
              "count                               3095             3095.000000        3095   \n",
              "unique                              3095                     NaN         611   \n",
              "top     9e25199f6ef7e7c347120ff175652c3b                     NaN   sao paulo   \n",
              "freq                                   1                     NaN         694   \n",
              "mean                                 NaN            32291.059451         NaN   \n",
              "std                                  NaN            32713.453830         NaN   \n",
              "min                                  NaN             1001.000000         NaN   \n",
              "25%                                  NaN             7093.500000         NaN   \n",
              "50%                                  NaN            14940.000000         NaN   \n",
              "75%                                  NaN            64552.500000         NaN   \n",
              "max                                  NaN            99730.000000         NaN   \n",
              "\n",
              "       seller_state  \n",
              "count          3095  \n",
              "unique           23  \n",
              "top              SP  \n",
              "freq           1849  \n",
              "mean            NaN  \n",
              "std             NaN  \n",
              "min             NaN  \n",
              "25%             NaN  \n",
              "50%             NaN  \n",
              "75%             NaN  \n",
              "max             NaN  "
            ]
          },
          "execution_count": 16,
          "metadata": {},
          "output_type": "execute_result"
        }
      ],
      "source": [
        "sellers.describe(include='all')"
      ]
    },
    {
      "cell_type": "markdown",
      "metadata": {
        "id": "g7dIQ7ZIAkwf"
      },
      "source": [
        "**Insights**\n",
        "- Tidak ditemukan missing dan duplicated value\n",
        "- Di dalam output method describe(), terdapat NaN karena tipe datanya object"
      ]
    },
    {
      "cell_type": "markdown",
      "metadata": {
        "id": "va8yK4PUBc3o"
      },
      "source": [
        "#### Customers Dataset"
      ]
    },
    {
      "cell_type": "code",
      "execution_count": 17,
      "metadata": {
        "colab": {
          "base_uri": "https://localhost:8080/"
        },
        "id": "Z-IYEqhyBkhK",
        "outputId": "a6d98e4c-9d99-4e84-dd00-54fc469dc1b2"
      },
      "outputs": [
        {
          "name": "stdout",
          "output_type": "stream",
          "text": [
            "<class 'pandas.core.frame.DataFrame'>\n",
            "RangeIndex: 99441 entries, 0 to 99440\n",
            "Data columns (total 5 columns):\n",
            " #   Column                    Non-Null Count  Dtype \n",
            "---  ------                    --------------  ----- \n",
            " 0   customer_id               99441 non-null  object\n",
            " 1   customer_unique_id        99441 non-null  object\n",
            " 2   customer_zip_code_prefix  99441 non-null  int64 \n",
            " 3   customer_city             99441 non-null  object\n",
            " 4   customer_state            99441 non-null  object\n",
            "dtypes: int64(1), object(4)\n",
            "memory usage: 3.8+ MB\n"
          ]
        }
      ],
      "source": [
        "customers.info()"
      ]
    },
    {
      "cell_type": "code",
      "execution_count": 18,
      "metadata": {
        "colab": {
          "base_uri": "https://localhost:8080/",
          "height": 241
        },
        "id": "eo56uZypBoYS",
        "outputId": "be9617dc-e9c3-4313-dfc1-cd7c6ad11d35"
      },
      "outputs": [
        {
          "data": {
            "text/plain": [
              "customer_id                 0\n",
              "customer_unique_id          0\n",
              "customer_zip_code_prefix    0\n",
              "customer_city               0\n",
              "customer_state              0\n",
              "dtype: int64"
            ]
          },
          "execution_count": 18,
          "metadata": {},
          "output_type": "execute_result"
        }
      ],
      "source": [
        "customers.isna().sum()"
      ]
    },
    {
      "cell_type": "code",
      "execution_count": 19,
      "metadata": {
        "colab": {
          "base_uri": "https://localhost:8080/"
        },
        "id": "yACECr4aBt7H",
        "outputId": "db725439-2bf1-4629-99fe-3affb1ece583"
      },
      "outputs": [
        {
          "data": {
            "text/plain": [
              "np.int64(0)"
            ]
          },
          "execution_count": 19,
          "metadata": {},
          "output_type": "execute_result"
        }
      ],
      "source": [
        "customers.duplicated().sum()"
      ]
    },
    {
      "cell_type": "markdown",
      "metadata": {
        "id": "QvfTtN8fB0Mq"
      },
      "source": [
        "**Insights**\n",
        "- Tidak ditemukan missing dan duplicated value"
      ]
    },
    {
      "cell_type": "markdown",
      "metadata": {
        "id": "Rt9wB_-WCPXT"
      },
      "source": [
        "#### Orders Dataset"
      ]
    },
    {
      "cell_type": "code",
      "execution_count": 20,
      "metadata": {
        "colab": {
          "base_uri": "https://localhost:8080/"
        },
        "id": "34zG3lUVCS7D",
        "outputId": "2392c911-4ce3-4471-84b5-fb35456d6a20"
      },
      "outputs": [
        {
          "name": "stdout",
          "output_type": "stream",
          "text": [
            "<class 'pandas.core.frame.DataFrame'>\n",
            "RangeIndex: 99441 entries, 0 to 99440\n",
            "Data columns (total 8 columns):\n",
            " #   Column                         Non-Null Count  Dtype \n",
            "---  ------                         --------------  ----- \n",
            " 0   order_id                       99441 non-null  object\n",
            " 1   customer_id                    99441 non-null  object\n",
            " 2   order_status                   99441 non-null  object\n",
            " 3   order_purchase_timestamp       99441 non-null  object\n",
            " 4   order_approved_at              99281 non-null  object\n",
            " 5   order_delivered_carrier_date   97658 non-null  object\n",
            " 6   order_delivered_customer_date  96476 non-null  object\n",
            " 7   order_estimated_delivery_date  99441 non-null  object\n",
            "dtypes: object(8)\n",
            "memory usage: 6.1+ MB\n"
          ]
        }
      ],
      "source": [
        "orders.info()"
      ]
    },
    {
      "cell_type": "code",
      "execution_count": 21,
      "metadata": {
        "colab": {
          "base_uri": "https://localhost:8080/",
          "height": 335
        },
        "id": "oSvzECdkCW9Z",
        "outputId": "61126c0f-295b-4343-c443-739e13e7d312"
      },
      "outputs": [
        {
          "data": {
            "text/plain": [
              "order_id                            0\n",
              "customer_id                         0\n",
              "order_status                        0\n",
              "order_purchase_timestamp            0\n",
              "order_approved_at                 160\n",
              "order_delivered_carrier_date     1783\n",
              "order_delivered_customer_date    2965\n",
              "order_estimated_delivery_date       0\n",
              "dtype: int64"
            ]
          },
          "execution_count": 21,
          "metadata": {},
          "output_type": "execute_result"
        }
      ],
      "source": [
        "orders.isna().sum()"
      ]
    },
    {
      "cell_type": "code",
      "execution_count": 22,
      "metadata": {
        "colab": {
          "base_uri": "https://localhost:8080/"
        },
        "id": "nqcUAdm7C4o_",
        "outputId": "9c5918c6-410f-43d8-d360-7785058cc35c"
      },
      "outputs": [
        {
          "data": {
            "text/plain": [
              "np.int64(0)"
            ]
          },
          "execution_count": 22,
          "metadata": {},
          "output_type": "execute_result"
        }
      ],
      "source": [
        "orders.duplicated().sum()"
      ]
    },
    {
      "cell_type": "markdown",
      "metadata": {
        "id": "Qrw1KEuuKW9u"
      },
      "source": [
        "**Insights**\n",
        "- Terdapat cukup banyak missing values pada kolom order_approved_at, order_delivered_customer_date, dan order_estimated_delivery_date"
      ]
    },
    {
      "cell_type": "markdown",
      "metadata": {
        "id": "8ppidkbIKo26"
      },
      "source": [
        "#### Reviews Dataset"
      ]
    },
    {
      "cell_type": "code",
      "execution_count": 23,
      "metadata": {
        "colab": {
          "base_uri": "https://localhost:8080/"
        },
        "id": "trIk7B5vKrkE",
        "outputId": "00f1748e-c2c1-4d53-ccf1-e9396cb58ba0"
      },
      "outputs": [
        {
          "name": "stdout",
          "output_type": "stream",
          "text": [
            "<class 'pandas.core.frame.DataFrame'>\n",
            "RangeIndex: 99224 entries, 0 to 99223\n",
            "Data columns (total 7 columns):\n",
            " #   Column                   Non-Null Count  Dtype \n",
            "---  ------                   --------------  ----- \n",
            " 0   review_id                99224 non-null  object\n",
            " 1   order_id                 99224 non-null  object\n",
            " 2   review_score             99224 non-null  int64 \n",
            " 3   review_comment_title     11568 non-null  object\n",
            " 4   review_comment_message   40977 non-null  object\n",
            " 5   review_creation_date     99224 non-null  object\n",
            " 6   review_answer_timestamp  99224 non-null  object\n",
            "dtypes: int64(1), object(6)\n",
            "memory usage: 5.3+ MB\n"
          ]
        }
      ],
      "source": [
        "reviews.info()"
      ]
    },
    {
      "cell_type": "code",
      "execution_count": 24,
      "metadata": {
        "colab": {
          "base_uri": "https://localhost:8080/",
          "height": 304
        },
        "id": "8dOor-vTLET4",
        "outputId": "afa177ae-104d-4eb5-f5ae-dd4ea0aaa1ec"
      },
      "outputs": [
        {
          "data": {
            "text/plain": [
              "review_id                      0\n",
              "order_id                       0\n",
              "review_score                   0\n",
              "review_comment_title       87656\n",
              "review_comment_message     58247\n",
              "review_creation_date           0\n",
              "review_answer_timestamp        0\n",
              "dtype: int64"
            ]
          },
          "execution_count": 24,
          "metadata": {},
          "output_type": "execute_result"
        }
      ],
      "source": [
        "reviews.isna().sum()"
      ]
    },
    {
      "cell_type": "markdown",
      "metadata": {
        "id": "wHV7GlnkRTeI"
      },
      "source": [
        "**Insights**\n",
        "- Terdapat missing values pada kolom review_comment_title dan review_comment_message"
      ]
    },
    {
      "cell_type": "markdown",
      "metadata": {
        "id": "9WpDUqBrrUMR"
      },
      "source": [
        "#### Payments Dataset"
      ]
    },
    {
      "cell_type": "code",
      "execution_count": 25,
      "metadata": {
        "colab": {
          "base_uri": "https://localhost:8080/"
        },
        "id": "UWnjoS_SRy2o",
        "outputId": "4d22ed87-ec19-4888-c1c6-1eba836598e1"
      },
      "outputs": [
        {
          "name": "stdout",
          "output_type": "stream",
          "text": [
            "<class 'pandas.core.frame.DataFrame'>\n",
            "RangeIndex: 103886 entries, 0 to 103885\n",
            "Data columns (total 5 columns):\n",
            " #   Column                Non-Null Count   Dtype  \n",
            "---  ------                --------------   -----  \n",
            " 0   order_id              103886 non-null  object \n",
            " 1   payment_sequential    103886 non-null  int64  \n",
            " 2   payment_type          103886 non-null  object \n",
            " 3   payment_installments  103886 non-null  int64  \n",
            " 4   payment_value         103886 non-null  float64\n",
            "dtypes: float64(1), int64(2), object(2)\n",
            "memory usage: 4.0+ MB\n"
          ]
        }
      ],
      "source": [
        "payments.info()"
      ]
    },
    {
      "cell_type": "code",
      "execution_count": 26,
      "metadata": {
        "colab": {
          "base_uri": "https://localhost:8080/",
          "height": 241
        },
        "id": "pG3WiGkmR3gL",
        "outputId": "2b9b3733-d578-4715-85cb-ba511a7c6f35"
      },
      "outputs": [
        {
          "data": {
            "text/plain": [
              "order_id                0\n",
              "payment_sequential      0\n",
              "payment_type            0\n",
              "payment_installments    0\n",
              "payment_value           0\n",
              "dtype: int64"
            ]
          },
          "execution_count": 26,
          "metadata": {},
          "output_type": "execute_result"
        }
      ],
      "source": [
        "payments.isna().sum()"
      ]
    },
    {
      "cell_type": "code",
      "execution_count": 27,
      "metadata": {
        "colab": {
          "base_uri": "https://localhost:8080/"
        },
        "id": "Pqju3baPR8Xg",
        "outputId": "c664507c-e946-4e41-96b6-a279a747af1c"
      },
      "outputs": [
        {
          "data": {
            "text/plain": [
              "np.int64(0)"
            ]
          },
          "execution_count": 27,
          "metadata": {},
          "output_type": "execute_result"
        }
      ],
      "source": [
        "payments.duplicated().sum()"
      ]
    },
    {
      "cell_type": "markdown",
      "metadata": {
        "id": "XabYORBaWacH"
      },
      "source": [
        "**Insights**\n",
        "- Tidak ditemukan missing dan duplicated value"
      ]
    },
    {
      "cell_type": "markdown",
      "metadata": {
        "id": "enzSZSnprb1j"
      },
      "source": [
        "#### Order Items Dataset"
      ]
    },
    {
      "cell_type": "code",
      "execution_count": 28,
      "metadata": {
        "colab": {
          "base_uri": "https://localhost:8080/"
        },
        "id": "iDd18X_prgoP",
        "outputId": "cd4818d9-4085-49e1-babf-c921121cf45c"
      },
      "outputs": [
        {
          "name": "stdout",
          "output_type": "stream",
          "text": [
            "<class 'pandas.core.frame.DataFrame'>\n",
            "RangeIndex: 112650 entries, 0 to 112649\n",
            "Data columns (total 7 columns):\n",
            " #   Column               Non-Null Count   Dtype  \n",
            "---  ------               --------------   -----  \n",
            " 0   order_id             112650 non-null  object \n",
            " 1   order_item_id        112650 non-null  int64  \n",
            " 2   product_id           112650 non-null  object \n",
            " 3   seller_id            112650 non-null  object \n",
            " 4   shipping_limit_date  112650 non-null  object \n",
            " 5   price                112650 non-null  float64\n",
            " 6   freight_value        112650 non-null  float64\n",
            "dtypes: float64(2), int64(1), object(4)\n",
            "memory usage: 6.0+ MB\n"
          ]
        }
      ],
      "source": [
        "orderItems.info()"
      ]
    },
    {
      "cell_type": "code",
      "execution_count": 29,
      "metadata": {
        "colab": {
          "base_uri": "https://localhost:8080/",
          "height": 304
        },
        "id": "36yUa5YErnDw",
        "outputId": "f40ec12a-6630-42d4-b1ed-2cc44dc84308"
      },
      "outputs": [
        {
          "data": {
            "text/plain": [
              "order_id               0\n",
              "order_item_id          0\n",
              "product_id             0\n",
              "seller_id              0\n",
              "shipping_limit_date    0\n",
              "price                  0\n",
              "freight_value          0\n",
              "dtype: int64"
            ]
          },
          "execution_count": 29,
          "metadata": {},
          "output_type": "execute_result"
        }
      ],
      "source": [
        "orderItems.isna().sum()"
      ]
    },
    {
      "cell_type": "code",
      "execution_count": 30,
      "metadata": {
        "colab": {
          "base_uri": "https://localhost:8080/"
        },
        "id": "-CTdCBYNr0R2",
        "outputId": "b04c3e85-765d-4b4c-a7a5-e693b6f227de"
      },
      "outputs": [
        {
          "data": {
            "text/plain": [
              "np.int64(0)"
            ]
          },
          "execution_count": 30,
          "metadata": {},
          "output_type": "execute_result"
        }
      ],
      "source": [
        "orderItems.duplicated().sum()"
      ]
    },
    {
      "cell_type": "code",
      "execution_count": 31,
      "metadata": {
        "colab": {
          "base_uri": "https://localhost:8080/",
          "height": 300
        },
        "id": "8ddwBMqpr4Aj",
        "outputId": "b3b86691-0ea8-4b3b-b498-a2cb3b58098c"
      },
      "outputs": [
        {
          "data": {
            "text/html": [
              "<div>\n",
              "<style scoped>\n",
              "    .dataframe tbody tr th:only-of-type {\n",
              "        vertical-align: middle;\n",
              "    }\n",
              "\n",
              "    .dataframe tbody tr th {\n",
              "        vertical-align: top;\n",
              "    }\n",
              "\n",
              "    .dataframe thead th {\n",
              "        text-align: right;\n",
              "    }\n",
              "</style>\n",
              "<table border=\"1\" class=\"dataframe\">\n",
              "  <thead>\n",
              "    <tr style=\"text-align: right;\">\n",
              "      <th></th>\n",
              "      <th>order_item_id</th>\n",
              "      <th>price</th>\n",
              "      <th>freight_value</th>\n",
              "    </tr>\n",
              "  </thead>\n",
              "  <tbody>\n",
              "    <tr>\n",
              "      <th>count</th>\n",
              "      <td>112650.000000</td>\n",
              "      <td>112650.000000</td>\n",
              "      <td>112650.000000</td>\n",
              "    </tr>\n",
              "    <tr>\n",
              "      <th>mean</th>\n",
              "      <td>1.197834</td>\n",
              "      <td>120.653739</td>\n",
              "      <td>19.990320</td>\n",
              "    </tr>\n",
              "    <tr>\n",
              "      <th>std</th>\n",
              "      <td>0.705124</td>\n",
              "      <td>183.633928</td>\n",
              "      <td>15.806405</td>\n",
              "    </tr>\n",
              "    <tr>\n",
              "      <th>min</th>\n",
              "      <td>1.000000</td>\n",
              "      <td>0.850000</td>\n",
              "      <td>0.000000</td>\n",
              "    </tr>\n",
              "    <tr>\n",
              "      <th>25%</th>\n",
              "      <td>1.000000</td>\n",
              "      <td>39.900000</td>\n",
              "      <td>13.080000</td>\n",
              "    </tr>\n",
              "    <tr>\n",
              "      <th>50%</th>\n",
              "      <td>1.000000</td>\n",
              "      <td>74.990000</td>\n",
              "      <td>16.260000</td>\n",
              "    </tr>\n",
              "    <tr>\n",
              "      <th>75%</th>\n",
              "      <td>1.000000</td>\n",
              "      <td>134.900000</td>\n",
              "      <td>21.150000</td>\n",
              "    </tr>\n",
              "    <tr>\n",
              "      <th>max</th>\n",
              "      <td>21.000000</td>\n",
              "      <td>6735.000000</td>\n",
              "      <td>409.680000</td>\n",
              "    </tr>\n",
              "  </tbody>\n",
              "</table>\n",
              "</div>"
            ],
            "text/plain": [
              "       order_item_id          price  freight_value\n",
              "count  112650.000000  112650.000000  112650.000000\n",
              "mean        1.197834     120.653739      19.990320\n",
              "std         0.705124     183.633928      15.806405\n",
              "min         1.000000       0.850000       0.000000\n",
              "25%         1.000000      39.900000      13.080000\n",
              "50%         1.000000      74.990000      16.260000\n",
              "75%         1.000000     134.900000      21.150000\n",
              "max        21.000000    6735.000000     409.680000"
            ]
          },
          "execution_count": 31,
          "metadata": {},
          "output_type": "execute_result"
        }
      ],
      "source": [
        "orderItems.describe()"
      ]
    },
    {
      "cell_type": "markdown",
      "metadata": {
        "id": "fGT9b1LdQ2Q8"
      },
      "source": [
        "**Insights**\n",
        "- Tidak ditemukan missing dan duplicated value"
      ]
    },
    {
      "cell_type": "markdown",
      "metadata": {
        "id": "EhN5R4hr8DC1"
      },
      "source": [
        "### Cleaning Data"
      ]
    },
    {
      "cell_type": "markdown",
      "metadata": {
        "id": "OkF8mI4iQjLL"
      },
      "source": [
        "### Products Dataset"
      ]
    },
    {
      "cell_type": "code",
      "execution_count": 32,
      "metadata": {
        "colab": {
          "base_uri": "https://localhost:8080/",
          "height": 366
        },
        "id": "E-C-IfMCQva2",
        "outputId": "3983b133-29bd-472f-8697-9ae63f4f26c6"
      },
      "outputs": [
        {
          "data": {
            "text/plain": [
              "product_id                    0\n",
              "product_category_name         0\n",
              "product_name_lenght           0\n",
              "product_description_lenght    0\n",
              "product_photos_qty            0\n",
              "product_weight_g              0\n",
              "product_length_cm             0\n",
              "product_height_cm             0\n",
              "product_width_cm              0\n",
              "dtype: int64"
            ]
          },
          "execution_count": 32,
          "metadata": {},
          "output_type": "execute_result"
        }
      ],
      "source": [
        "products = products.dropna(axis=0)\n",
        "products.isna().sum()"
      ]
    },
    {
      "cell_type": "code",
      "execution_count": 33,
      "metadata": {
        "colab": {
          "base_uri": "https://localhost:8080/"
        },
        "id": "6JL9G4LjU1We",
        "outputId": "81bd756b-418f-4648-abee-74dbad7fd5e5"
      },
      "outputs": [
        {
          "name": "stdout",
          "output_type": "stream",
          "text": [
            "<class 'pandas.core.frame.DataFrame'>\n",
            "Index: 32340 entries, 0 to 32950\n",
            "Data columns (total 9 columns):\n",
            " #   Column                      Non-Null Count  Dtype  \n",
            "---  ------                      --------------  -----  \n",
            " 0   product_id                  32340 non-null  object \n",
            " 1   product_category_name       32340 non-null  object \n",
            " 2   product_name_lenght         32340 non-null  float64\n",
            " 3   product_description_lenght  32340 non-null  float64\n",
            " 4   product_photos_qty          32340 non-null  float64\n",
            " 5   product_weight_g            32340 non-null  float64\n",
            " 6   product_length_cm           32340 non-null  float64\n",
            " 7   product_height_cm           32340 non-null  float64\n",
            " 8   product_width_cm            32340 non-null  float64\n",
            "dtypes: float64(7), object(2)\n",
            "memory usage: 2.5+ MB\n"
          ]
        }
      ],
      "source": [
        "products.info()"
      ]
    },
    {
      "cell_type": "markdown",
      "metadata": {
        "id": "7THvEv0BSEwg"
      },
      "source": [
        "Missing values pada Products dataset dihapus dengan pertimbangan jumlah missing values sekitar 610 sedangkan jumlah data keseluruhan ada 32.000 lebih"
      ]
    },
    {
      "cell_type": "code",
      "execution_count": 34,
      "metadata": {
        "colab": {
          "base_uri": "https://localhost:8080/",
          "height": 226
        },
        "id": "d21hyVDoVDAA",
        "outputId": "c54bedee-a2b9-479e-d857-71eb7b77ba31"
      },
      "outputs": [
        {
          "data": {
            "text/html": [
              "<div>\n",
              "<style scoped>\n",
              "    .dataframe tbody tr th:only-of-type {\n",
              "        vertical-align: middle;\n",
              "    }\n",
              "\n",
              "    .dataframe tbody tr th {\n",
              "        vertical-align: top;\n",
              "    }\n",
              "\n",
              "    .dataframe thead th {\n",
              "        text-align: right;\n",
              "    }\n",
              "</style>\n",
              "<table border=\"1\" class=\"dataframe\">\n",
              "  <thead>\n",
              "    <tr style=\"text-align: right;\">\n",
              "      <th></th>\n",
              "      <th>product_id</th>\n",
              "      <th>product_category_name</th>\n",
              "      <th>product_name_lenght</th>\n",
              "      <th>product_description_lenght</th>\n",
              "      <th>product_photos_qty</th>\n",
              "      <th>product_weight_g</th>\n",
              "      <th>product_length_cm</th>\n",
              "      <th>product_height_cm</th>\n",
              "      <th>product_width_cm</th>\n",
              "    </tr>\n",
              "  </thead>\n",
              "  <tbody>\n",
              "    <tr>\n",
              "      <th>0</th>\n",
              "      <td>1e9e8ef04dbcff4541ed26657ea517e5</td>\n",
              "      <td>perfumery</td>\n",
              "      <td>40.0</td>\n",
              "      <td>287.0</td>\n",
              "      <td>1.0</td>\n",
              "      <td>225.0</td>\n",
              "      <td>16.0</td>\n",
              "      <td>10.0</td>\n",
              "      <td>14.0</td>\n",
              "    </tr>\n",
              "    <tr>\n",
              "      <th>1</th>\n",
              "      <td>3aa071139cb16b67ca9e5dea641aaa2f</td>\n",
              "      <td>art</td>\n",
              "      <td>44.0</td>\n",
              "      <td>276.0</td>\n",
              "      <td>1.0</td>\n",
              "      <td>1000.0</td>\n",
              "      <td>30.0</td>\n",
              "      <td>18.0</td>\n",
              "      <td>20.0</td>\n",
              "    </tr>\n",
              "    <tr>\n",
              "      <th>2</th>\n",
              "      <td>96bd76ec8810374ed1b65e291975717f</td>\n",
              "      <td>sports_leisure</td>\n",
              "      <td>46.0</td>\n",
              "      <td>250.0</td>\n",
              "      <td>1.0</td>\n",
              "      <td>154.0</td>\n",
              "      <td>18.0</td>\n",
              "      <td>9.0</td>\n",
              "      <td>15.0</td>\n",
              "    </tr>\n",
              "    <tr>\n",
              "      <th>3</th>\n",
              "      <td>cef67bcfe19066a932b7673e239eb23d</td>\n",
              "      <td>baby</td>\n",
              "      <td>27.0</td>\n",
              "      <td>261.0</td>\n",
              "      <td>1.0</td>\n",
              "      <td>371.0</td>\n",
              "      <td>26.0</td>\n",
              "      <td>4.0</td>\n",
              "      <td>26.0</td>\n",
              "    </tr>\n",
              "    <tr>\n",
              "      <th>4</th>\n",
              "      <td>9dc1a7de274444849c219cff195d0b71</td>\n",
              "      <td>housewares</td>\n",
              "      <td>37.0</td>\n",
              "      <td>402.0</td>\n",
              "      <td>4.0</td>\n",
              "      <td>625.0</td>\n",
              "      <td>20.0</td>\n",
              "      <td>17.0</td>\n",
              "      <td>13.0</td>\n",
              "    </tr>\n",
              "  </tbody>\n",
              "</table>\n",
              "</div>"
            ],
            "text/plain": [
              "                         product_id product_category_name  \\\n",
              "0  1e9e8ef04dbcff4541ed26657ea517e5             perfumery   \n",
              "1  3aa071139cb16b67ca9e5dea641aaa2f                   art   \n",
              "2  96bd76ec8810374ed1b65e291975717f        sports_leisure   \n",
              "3  cef67bcfe19066a932b7673e239eb23d                  baby   \n",
              "4  9dc1a7de274444849c219cff195d0b71            housewares   \n",
              "\n",
              "   product_name_lenght  product_description_lenght  product_photos_qty  \\\n",
              "0                 40.0                       287.0                 1.0   \n",
              "1                 44.0                       276.0                 1.0   \n",
              "2                 46.0                       250.0                 1.0   \n",
              "3                 27.0                       261.0                 1.0   \n",
              "4                 37.0                       402.0                 4.0   \n",
              "\n",
              "   product_weight_g  product_length_cm  product_height_cm  product_width_cm  \n",
              "0             225.0               16.0               10.0              14.0  \n",
              "1            1000.0               30.0               18.0              20.0  \n",
              "2             154.0               18.0                9.0              15.0  \n",
              "3             371.0               26.0                4.0              26.0  \n",
              "4             625.0               20.0               17.0              13.0  "
            ]
          },
          "execution_count": 34,
          "metadata": {},
          "output_type": "execute_result"
        }
      ],
      "source": [
        "mapping = dict(zip(translation.product_category_name, translation.product_category_name_english))\n",
        "\n",
        "products.product_category_name = products.product_category_name.map(mapping).fillna(products.product_category_name)\n",
        "products.head()"
      ]
    },
    {
      "cell_type": "markdown",
      "metadata": {
        "id": "ZlrlnHd8V6Za"
      },
      "source": [
        "Mengubah nama kategori produk dengan translasi bahasa Inggris supaya mudah dipahami"
      ]
    },
    {
      "cell_type": "markdown",
      "metadata": {
        "id": "N3L5HNZ5WDLi"
      },
      "source": [
        "### Orders Dataset"
      ]
    },
    {
      "cell_type": "code",
      "execution_count": 35,
      "metadata": {
        "colab": {
          "base_uri": "https://localhost:8080/",
          "height": 335
        },
        "id": "YCSnh1u2XWgg",
        "outputId": "185c70eb-5784-487c-f87e-ae502a4919f8"
      },
      "outputs": [
        {
          "data": {
            "text/plain": [
              "order_status\n",
              "shipped        1107\n",
              "canceled        625\n",
              "unavailable     609\n",
              "invoiced        314\n",
              "processing      301\n",
              "created           5\n",
              "approved          2\n",
              "Name: count, dtype: int64"
            ]
          },
          "execution_count": 35,
          "metadata": {},
          "output_type": "execute_result"
        }
      ],
      "source": [
        "orders[orders.order_status != 'delivered'].order_status.value_counts()"
      ]
    },
    {
      "cell_type": "markdown",
      "metadata": {
        "id": "UoAd-Im15-rg"
      },
      "source": [
        "Missing value pada Orders dataset akan dibiarkan karena missing value ini berkaitan dengan status pemesanan"
      ]
    },
    {
      "cell_type": "code",
      "execution_count": 36,
      "metadata": {
        "id": "1__586XhPqgr"
      },
      "outputs": [],
      "source": [
        "columns = ['order_purchase_timestamp', 'order_approved_at', 'order_delivered_carrier_date', 'order_delivered_customer_date', 'order_estimated_delivery_date']\n",
        "\n",
        "for column in columns:\n",
        "  orders[column] = pd.to_datetime(orders[column], format='%d/%m/%Y %H:%M', errors='coerce')"
      ]
    },
    {
      "cell_type": "markdown",
      "metadata": {
        "id": "8vrbeceCw8Fg"
      },
      "source": [
        "Mengubah tipe data pada kolom waktu menjadi datetime dari object"
      ]
    },
    {
      "cell_type": "markdown",
      "metadata": {
        "id": "gp-Y6wU38DC1"
      },
      "source": [
        "## Exploratory Data Analysis (EDA)"
      ]
    },
    {
      "cell_type": "markdown",
      "metadata": {
        "id": "MW7WF2kr8DC1"
      },
      "source": [
        "### Explore ..."
      ]
    },
    {
      "cell_type": "markdown",
      "metadata": {
        "id": "_q0fpiDS4siE"
      },
      "source": [
        "Distribusi jumlah pesanan berdasarkan status pesanan"
      ]
    },
    {
      "cell_type": "code",
      "execution_count": 37,
      "metadata": {
        "colab": {
          "base_uri": "https://localhost:8080/",
          "height": 366
        },
        "id": "Xvo8YqcDMEnI",
        "outputId": "38011455-88d8-41db-a2ae-c28dab65be66"
      },
      "outputs": [
        {
          "data": {
            "text/plain": [
              "order_status\n",
              "delivered      96478\n",
              "shipped         1107\n",
              "canceled         625\n",
              "unavailable      609\n",
              "invoiced         314\n",
              "processing       301\n",
              "created            5\n",
              "approved           2\n",
              "Name: order_id, dtype: int64"
            ]
          },
          "execution_count": 37,
          "metadata": {},
          "output_type": "execute_result"
        }
      ],
      "source": [
        "orders.groupby(by='order_status').order_id.nunique().sort_values(ascending=False)"
      ]
    },
    {
      "cell_type": "markdown",
      "metadata": {
        "id": "MLlkSuVo44YG"
      },
      "source": [
        "Perbedaan waktu pengiriman antara tanggal estimasi dengan tanggal pengiriman aktual"
      ]
    },
    {
      "cell_type": "code",
      "execution_count": 38,
      "metadata": {
        "id": "Nyb9mH2iMtvm"
      },
      "outputs": [],
      "source": [
        "shipment = orders.order_estimated_delivery_date - orders.order_delivered_customer_date\n",
        "shipment = shipment.apply(lambda x: x.total_seconds())\n",
        "orders['shipment'] = round(shipment / 86400)"
      ]
    },
    {
      "cell_type": "code",
      "execution_count": 39,
      "metadata": {
        "colab": {
          "base_uri": "https://localhost:8080/",
          "height": 444
        },
        "id": "mJnkY9hP8fEJ",
        "outputId": "fc940742-75f6-45b6-b3ff-b9c8ee9abb95"
      },
      "outputs": [
        {
          "data": {
            "text/html": [
              "<div>\n",
              "<style scoped>\n",
              "    .dataframe tbody tr th:only-of-type {\n",
              "        vertical-align: middle;\n",
              "    }\n",
              "\n",
              "    .dataframe tbody tr th {\n",
              "        vertical-align: top;\n",
              "    }\n",
              "\n",
              "    .dataframe thead th {\n",
              "        text-align: right;\n",
              "    }\n",
              "</style>\n",
              "<table border=\"1\" class=\"dataframe\">\n",
              "  <thead>\n",
              "    <tr style=\"text-align: right;\">\n",
              "      <th></th>\n",
              "      <th>order_id</th>\n",
              "      <th>customer_id</th>\n",
              "      <th>order_status</th>\n",
              "      <th>order_purchase_timestamp</th>\n",
              "      <th>order_approved_at</th>\n",
              "      <th>order_delivered_carrier_date</th>\n",
              "      <th>order_delivered_customer_date</th>\n",
              "      <th>order_estimated_delivery_date</th>\n",
              "      <th>shipment</th>\n",
              "    </tr>\n",
              "  </thead>\n",
              "  <tbody>\n",
              "    <tr>\n",
              "      <th>20</th>\n",
              "      <td>203096f03d82e0dffbc41ebc2e2bcfb7</td>\n",
              "      <td>d2b091571da224a1b36412c18bc3bbfe</td>\n",
              "      <td>delivered</td>\n",
              "      <td>2017-09-18 14:31:00</td>\n",
              "      <td>2017-09-19 04:04:00</td>\n",
              "      <td>2017-10-06 17:50:00</td>\n",
              "      <td>2017-10-09 22:23:00</td>\n",
              "      <td>2017-09-28</td>\n",
              "      <td>-12.0</td>\n",
              "    </tr>\n",
              "    <tr>\n",
              "      <th>25</th>\n",
              "      <td>fbf9ac61453ac646ce8ad9783d7d0af6</td>\n",
              "      <td>3a874b4d4c4b6543206ff5d89287f0c3</td>\n",
              "      <td>delivered</td>\n",
              "      <td>2018-02-20 23:46:00</td>\n",
              "      <td>2018-02-22 02:30:00</td>\n",
              "      <td>2018-02-26 22:25:00</td>\n",
              "      <td>2018-03-21 22:03:00</td>\n",
              "      <td>2018-03-12</td>\n",
              "      <td>-10.0</td>\n",
              "    </tr>\n",
              "    <tr>\n",
              "      <th>41</th>\n",
              "      <td>6ea2f835b4556291ffdc53fa0b3b95e8</td>\n",
              "      <td>c7340080e394356141681bd4c9b8fe31</td>\n",
              "      <td>delivered</td>\n",
              "      <td>2017-11-24 21:27:00</td>\n",
              "      <td>2017-11-25 00:21:00</td>\n",
              "      <td>2017-12-13 21:14:00</td>\n",
              "      <td>2017-12-28 18:59:00</td>\n",
              "      <td>2017-12-21</td>\n",
              "      <td>-8.0</td>\n",
              "    </tr>\n",
              "    <tr>\n",
              "      <th>57</th>\n",
              "      <td>66e4624ae69e7dc89bd50222b59f581f</td>\n",
              "      <td>684fa6da5134b9e4dab731e00011712d</td>\n",
              "      <td>delivered</td>\n",
              "      <td>2018-03-09 14:50:00</td>\n",
              "      <td>2018-03-09 15:40:00</td>\n",
              "      <td>2018-03-15 00:31:00</td>\n",
              "      <td>2018-04-03 13:28:00</td>\n",
              "      <td>2018-04-02</td>\n",
              "      <td>-2.0</td>\n",
              "    </tr>\n",
              "    <tr>\n",
              "      <th>58</th>\n",
              "      <td>a685d016c8a26f71a0bb67821070e398</td>\n",
              "      <td>911e4c37f5cafe1604fe6767034bf1ae</td>\n",
              "      <td>delivered</td>\n",
              "      <td>2017-03-13 18:14:00</td>\n",
              "      <td>2017-03-13 18:14:00</td>\n",
              "      <td>2017-03-22 14:03:00</td>\n",
              "      <td>2017-04-06 13:37:00</td>\n",
              "      <td>2017-03-30</td>\n",
              "      <td>-8.0</td>\n",
              "    </tr>\n",
              "    <tr>\n",
              "      <th>...</th>\n",
              "      <td>...</td>\n",
              "      <td>...</td>\n",
              "      <td>...</td>\n",
              "      <td>...</td>\n",
              "      <td>...</td>\n",
              "      <td>...</td>\n",
              "      <td>...</td>\n",
              "      <td>...</td>\n",
              "      <td>...</td>\n",
              "    </tr>\n",
              "    <tr>\n",
              "      <th>99396</th>\n",
              "      <td>b3112ca67f3afd4e20cf2ee91fc4f804</td>\n",
              "      <td>6f83c71b6c044fb156d697d4130fe9b5</td>\n",
              "      <td>delivered</td>\n",
              "      <td>2018-08-02 22:46:00</td>\n",
              "      <td>2018-08-02 23:04:00</td>\n",
              "      <td>2018-08-15 17:42:00</td>\n",
              "      <td>2018-08-21 00:03:00</td>\n",
              "      <td>2018-08-16</td>\n",
              "      <td>-5.0</td>\n",
              "    </tr>\n",
              "    <tr>\n",
              "      <th>99397</th>\n",
              "      <td>0fa1fab1d7c1211c824596ed5e111e3c</td>\n",
              "      <td>7f3bd6c94d2daf7b6462d1a894a775b4</td>\n",
              "      <td>delivered</td>\n",
              "      <td>2018-03-13 21:48:00</td>\n",
              "      <td>2018-03-13 22:40:00</td>\n",
              "      <td>2018-03-14 19:27:00</td>\n",
              "      <td>2018-04-05 19:59:00</td>\n",
              "      <td>2018-04-02</td>\n",
              "      <td>-4.0</td>\n",
              "    </tr>\n",
              "    <tr>\n",
              "      <th>99423</th>\n",
              "      <td>38e9133ce29f6bbe35aed9c3863dce01</td>\n",
              "      <td>ad312389a098ceff46ce92c4595c06d0</td>\n",
              "      <td>delivered</td>\n",
              "      <td>2017-10-12 20:54:00</td>\n",
              "      <td>2017-10-14 03:28:00</td>\n",
              "      <td>2017-10-17 17:04:00</td>\n",
              "      <td>2017-11-21 17:06:00</td>\n",
              "      <td>2017-10-31</td>\n",
              "      <td>-22.0</td>\n",
              "    </tr>\n",
              "    <tr>\n",
              "      <th>99425</th>\n",
              "      <td>d692ef54145c9cb3322ec2e5508aa3f4</td>\n",
              "      <td>82ddfcf9438b0cd1117b55ac33184df8</td>\n",
              "      <td>delivered</td>\n",
              "      <td>2018-03-21 19:47:00</td>\n",
              "      <td>2018-03-21 20:05:00</td>\n",
              "      <td>2018-03-22 21:11:00</td>\n",
              "      <td>2018-04-11 00:48:00</td>\n",
              "      <td>2018-04-09</td>\n",
              "      <td>-2.0</td>\n",
              "    </tr>\n",
              "    <tr>\n",
              "      <th>99432</th>\n",
              "      <td>cfa78b997e329a5295b4ee6972c02979</td>\n",
              "      <td>a2f7428f0cafbc8e59f20e1444b67315</td>\n",
              "      <td>delivered</td>\n",
              "      <td>2017-12-20 09:52:00</td>\n",
              "      <td>2017-12-20 10:09:00</td>\n",
              "      <td>2017-12-20 20:25:00</td>\n",
              "      <td>2018-01-26 15:45:00</td>\n",
              "      <td>2018-01-18</td>\n",
              "      <td>-9.0</td>\n",
              "    </tr>\n",
              "  </tbody>\n",
              "</table>\n",
              "<p>7646 rows × 9 columns</p>\n",
              "</div>"
            ],
            "text/plain": [
              "                               order_id                       customer_id  \\\n",
              "20     203096f03d82e0dffbc41ebc2e2bcfb7  d2b091571da224a1b36412c18bc3bbfe   \n",
              "25     fbf9ac61453ac646ce8ad9783d7d0af6  3a874b4d4c4b6543206ff5d89287f0c3   \n",
              "41     6ea2f835b4556291ffdc53fa0b3b95e8  c7340080e394356141681bd4c9b8fe31   \n",
              "57     66e4624ae69e7dc89bd50222b59f581f  684fa6da5134b9e4dab731e00011712d   \n",
              "58     a685d016c8a26f71a0bb67821070e398  911e4c37f5cafe1604fe6767034bf1ae   \n",
              "...                                 ...                               ...   \n",
              "99396  b3112ca67f3afd4e20cf2ee91fc4f804  6f83c71b6c044fb156d697d4130fe9b5   \n",
              "99397  0fa1fab1d7c1211c824596ed5e111e3c  7f3bd6c94d2daf7b6462d1a894a775b4   \n",
              "99423  38e9133ce29f6bbe35aed9c3863dce01  ad312389a098ceff46ce92c4595c06d0   \n",
              "99425  d692ef54145c9cb3322ec2e5508aa3f4  82ddfcf9438b0cd1117b55ac33184df8   \n",
              "99432  cfa78b997e329a5295b4ee6972c02979  a2f7428f0cafbc8e59f20e1444b67315   \n",
              "\n",
              "      order_status order_purchase_timestamp   order_approved_at  \\\n",
              "20       delivered      2017-09-18 14:31:00 2017-09-19 04:04:00   \n",
              "25       delivered      2018-02-20 23:46:00 2018-02-22 02:30:00   \n",
              "41       delivered      2017-11-24 21:27:00 2017-11-25 00:21:00   \n",
              "57       delivered      2018-03-09 14:50:00 2018-03-09 15:40:00   \n",
              "58       delivered      2017-03-13 18:14:00 2017-03-13 18:14:00   \n",
              "...            ...                      ...                 ...   \n",
              "99396    delivered      2018-08-02 22:46:00 2018-08-02 23:04:00   \n",
              "99397    delivered      2018-03-13 21:48:00 2018-03-13 22:40:00   \n",
              "99423    delivered      2017-10-12 20:54:00 2017-10-14 03:28:00   \n",
              "99425    delivered      2018-03-21 19:47:00 2018-03-21 20:05:00   \n",
              "99432    delivered      2017-12-20 09:52:00 2017-12-20 10:09:00   \n",
              "\n",
              "      order_delivered_carrier_date order_delivered_customer_date  \\\n",
              "20             2017-10-06 17:50:00           2017-10-09 22:23:00   \n",
              "25             2018-02-26 22:25:00           2018-03-21 22:03:00   \n",
              "41             2017-12-13 21:14:00           2017-12-28 18:59:00   \n",
              "57             2018-03-15 00:31:00           2018-04-03 13:28:00   \n",
              "58             2017-03-22 14:03:00           2017-04-06 13:37:00   \n",
              "...                            ...                           ...   \n",
              "99396          2018-08-15 17:42:00           2018-08-21 00:03:00   \n",
              "99397          2018-03-14 19:27:00           2018-04-05 19:59:00   \n",
              "99423          2017-10-17 17:04:00           2017-11-21 17:06:00   \n",
              "99425          2018-03-22 21:11:00           2018-04-11 00:48:00   \n",
              "99432          2017-12-20 20:25:00           2018-01-26 15:45:00   \n",
              "\n",
              "      order_estimated_delivery_date  shipment  \n",
              "20                       2017-09-28     -12.0  \n",
              "25                       2018-03-12     -10.0  \n",
              "41                       2017-12-21      -8.0  \n",
              "57                       2018-04-02      -2.0  \n",
              "58                       2017-03-30      -8.0  \n",
              "...                             ...       ...  \n",
              "99396                    2018-08-16      -5.0  \n",
              "99397                    2018-04-02      -4.0  \n",
              "99423                    2017-10-31     -22.0  \n",
              "99425                    2018-04-09      -2.0  \n",
              "99432                    2018-01-18      -9.0  \n",
              "\n",
              "[7646 rows x 9 columns]"
            ]
          },
          "execution_count": 39,
          "metadata": {},
          "output_type": "execute_result"
        }
      ],
      "source": [
        "orders[orders.shipment < 0]"
      ]
    },
    {
      "cell_type": "code",
      "execution_count": 40,
      "metadata": {
        "colab": {
          "base_uri": "https://localhost:8080/",
          "height": 338
        },
        "id": "BP1RcdZQUAN8",
        "outputId": "f246d5ec-a5e2-4435-b4c9-a16bee6d9c80"
      },
      "outputs": [
        {
          "data": {
            "text/html": [
              "<div>\n",
              "<style scoped>\n",
              "    .dataframe tbody tr th:only-of-type {\n",
              "        vertical-align: middle;\n",
              "    }\n",
              "\n",
              "    .dataframe tbody tr th {\n",
              "        vertical-align: top;\n",
              "    }\n",
              "\n",
              "    .dataframe thead th {\n",
              "        text-align: right;\n",
              "    }\n",
              "</style>\n",
              "<table border=\"1\" class=\"dataframe\">\n",
              "  <thead>\n",
              "    <tr style=\"text-align: right;\">\n",
              "      <th></th>\n",
              "      <th>order_purchase_timestamp</th>\n",
              "      <th>order_approved_at</th>\n",
              "      <th>order_delivered_carrier_date</th>\n",
              "      <th>order_delivered_customer_date</th>\n",
              "      <th>order_estimated_delivery_date</th>\n",
              "      <th>shipment</th>\n",
              "    </tr>\n",
              "  </thead>\n",
              "  <tbody>\n",
              "    <tr>\n",
              "      <th>count</th>\n",
              "      <td>99441</td>\n",
              "      <td>99281</td>\n",
              "      <td>97658</td>\n",
              "      <td>96476</td>\n",
              "      <td>99441</td>\n",
              "      <td>96476.000000</td>\n",
              "    </tr>\n",
              "    <tr>\n",
              "      <th>mean</th>\n",
              "      <td>2017-12-31 08:42:43.256403200</td>\n",
              "      <td>2017-12-31 18:34:57.504054016</td>\n",
              "      <td>2018-01-04 21:49:25.250773248</td>\n",
              "      <td>2018-01-14 12:08:45.733239552</td>\n",
              "      <td>2018-01-24 03:08:37.730111232</td>\n",
              "      <td>11.008696</td>\n",
              "    </tr>\n",
              "    <tr>\n",
              "      <th>min</th>\n",
              "      <td>2016-09-04 21:15:00</td>\n",
              "      <td>2016-09-15 12:16:00</td>\n",
              "      <td>2016-10-08 10:34:00</td>\n",
              "      <td>2016-10-11 13:46:00</td>\n",
              "      <td>2016-09-30 00:00:00</td>\n",
              "      <td>-189.000000</td>\n",
              "    </tr>\n",
              "    <tr>\n",
              "      <th>25%</th>\n",
              "      <td>2017-09-12 14:46:00</td>\n",
              "      <td>2017-09-12 23:24:00</td>\n",
              "      <td>2017-09-15 22:28:00</td>\n",
              "      <td>2017-09-25 22:06:45</td>\n",
              "      <td>2017-10-03 00:00:00</td>\n",
              "      <td>6.000000</td>\n",
              "    </tr>\n",
              "    <tr>\n",
              "      <th>50%</th>\n",
              "      <td>2018-01-18 23:04:00</td>\n",
              "      <td>2018-01-19 11:36:00</td>\n",
              "      <td>2018-01-24 16:10:30</td>\n",
              "      <td>2018-02-02 19:27:30</td>\n",
              "      <td>2018-02-15 00:00:00</td>\n",
              "      <td>12.000000</td>\n",
              "    </tr>\n",
              "    <tr>\n",
              "      <th>75%</th>\n",
              "      <td>2018-05-04 15:42:00</td>\n",
              "      <td>2018-05-04 20:35:00</td>\n",
              "      <td>2018-05-08 13:37:45</td>\n",
              "      <td>2018-05-15 22:48:00</td>\n",
              "      <td>2018-05-25 00:00:00</td>\n",
              "      <td>16.000000</td>\n",
              "    </tr>\n",
              "    <tr>\n",
              "      <th>max</th>\n",
              "      <td>2018-10-17 17:30:00</td>\n",
              "      <td>2018-09-03 17:40:00</td>\n",
              "      <td>2018-09-11 19:48:00</td>\n",
              "      <td>2018-10-17 13:22:00</td>\n",
              "      <td>2018-11-12 00:00:00</td>\n",
              "      <td>146.000000</td>\n",
              "    </tr>\n",
              "    <tr>\n",
              "      <th>std</th>\n",
              "      <td>NaN</td>\n",
              "      <td>NaN</td>\n",
              "      <td>NaN</td>\n",
              "      <td>NaN</td>\n",
              "      <td>NaN</td>\n",
              "      <td>10.190637</td>\n",
              "    </tr>\n",
              "  </tbody>\n",
              "</table>\n",
              "</div>"
            ],
            "text/plain": [
              "            order_purchase_timestamp              order_approved_at  \\\n",
              "count                          99441                          99281   \n",
              "mean   2017-12-31 08:42:43.256403200  2017-12-31 18:34:57.504054016   \n",
              "min              2016-09-04 21:15:00            2016-09-15 12:16:00   \n",
              "25%              2017-09-12 14:46:00            2017-09-12 23:24:00   \n",
              "50%              2018-01-18 23:04:00            2018-01-19 11:36:00   \n",
              "75%              2018-05-04 15:42:00            2018-05-04 20:35:00   \n",
              "max              2018-10-17 17:30:00            2018-09-03 17:40:00   \n",
              "std                              NaN                            NaN   \n",
              "\n",
              "        order_delivered_carrier_date  order_delivered_customer_date  \\\n",
              "count                          97658                          96476   \n",
              "mean   2018-01-04 21:49:25.250773248  2018-01-14 12:08:45.733239552   \n",
              "min              2016-10-08 10:34:00            2016-10-11 13:46:00   \n",
              "25%              2017-09-15 22:28:00            2017-09-25 22:06:45   \n",
              "50%              2018-01-24 16:10:30            2018-02-02 19:27:30   \n",
              "75%              2018-05-08 13:37:45            2018-05-15 22:48:00   \n",
              "max              2018-09-11 19:48:00            2018-10-17 13:22:00   \n",
              "std                              NaN                            NaN   \n",
              "\n",
              "       order_estimated_delivery_date      shipment  \n",
              "count                          99441  96476.000000  \n",
              "mean   2018-01-24 03:08:37.730111232     11.008696  \n",
              "min              2016-09-30 00:00:00   -189.000000  \n",
              "25%              2017-10-03 00:00:00      6.000000  \n",
              "50%              2018-02-15 00:00:00     12.000000  \n",
              "75%              2018-05-25 00:00:00     16.000000  \n",
              "max              2018-11-12 00:00:00    146.000000  \n",
              "std                              NaN     10.190637  "
            ]
          },
          "execution_count": 40,
          "metadata": {},
          "output_type": "execute_result"
        }
      ],
      "source": [
        "orders.describe()"
      ]
    },
    {
      "cell_type": "markdown",
      "metadata": {
        "id": "qIv_TcuT5XT_"
      },
      "source": [
        "Distribusi jumlah pesanan berdasarkan kota pelanggan"
      ]
    },
    {
      "cell_type": "code",
      "execution_count": 41,
      "metadata": {
        "colab": {
          "base_uri": "https://localhost:8080/",
          "height": 429
        },
        "id": "kAKR3NPBByAz",
        "outputId": "f2945293-0315-4836-925c-69a73b954d33"
      },
      "outputs": [
        {
          "data": {
            "text/plain": [
              "customer_city\n",
              "sao paulo                15540\n",
              "rio de janeiro            6882\n",
              "belo horizonte            2773\n",
              "brasilia                  2131\n",
              "curitiba                  1521\n",
              "campinas                  1444\n",
              "porto alegre              1379\n",
              "salvador                  1245\n",
              "guarulhos                 1189\n",
              "sao bernardo do campo      938\n",
              "Name: order_id, dtype: int64"
            ]
          },
          "execution_count": 41,
          "metadata": {},
          "output_type": "execute_result"
        }
      ],
      "source": [
        "ordersCustomers = pd.merge(\n",
        "    left=orders,\n",
        "    right=customers,\n",
        "    how='left',\n",
        "    left_on='customer_id',\n",
        "    right_on='customer_id'\n",
        ")\n",
        "\n",
        "ordersCustomers.groupby(by='customer_city').order_id.nunique().sort_values(ascending=False).head(10)"
      ]
    },
    {
      "cell_type": "markdown",
      "metadata": {
        "id": "1wdVpkeT6NJN"
      },
      "source": [
        "Distribusi score review"
      ]
    },
    {
      "cell_type": "code",
      "execution_count": 42,
      "metadata": {
        "colab": {
          "base_uri": "https://localhost:8080/",
          "height": 272
        },
        "id": "0eRw7OCvqTBL",
        "outputId": "6e602714-55a6-4b62-d45b-dbbc7b3fed8c"
      },
      "outputs": [
        {
          "data": {
            "text/plain": [
              "review_score\n",
              "5    57076\n",
              "4    19098\n",
              "1    11393\n",
              "3     8160\n",
              "2     3148\n",
              "Name: order_id, dtype: int64"
            ]
          },
          "execution_count": 42,
          "metadata": {},
          "output_type": "execute_result"
        }
      ],
      "source": [
        "reviews.groupby(by='review_score').order_id.nunique().sort_values(ascending=False)"
      ]
    },
    {
      "cell_type": "markdown",
      "metadata": {
        "id": "yyHTV74K6W0T"
      },
      "source": [
        "Kategori barang yang paling banyak dipesan"
      ]
    },
    {
      "cell_type": "code",
      "execution_count": 43,
      "metadata": {
        "colab": {
          "base_uri": "https://localhost:8080/",
          "height": 429
        },
        "id": "Q6ZwogZGrQlX",
        "outputId": "40432cef-8db8-48cb-9249-7fdb3b44f20e"
      },
      "outputs": [
        {
          "data": {
            "text/plain": [
              "product_category_name\n",
              "bed_bath_table           9417\n",
              "health_beauty            8836\n",
              "sports_leisure           7720\n",
              "computers_accessories    6689\n",
              "furniture_decor          6449\n",
              "housewares               5884\n",
              "watches_gifts            5624\n",
              "telephony                4199\n",
              "auto                     3897\n",
              "toys                     3886\n",
              "Name: order_id, dtype: int64"
            ]
          },
          "execution_count": 43,
          "metadata": {},
          "output_type": "execute_result"
        }
      ],
      "source": [
        "ordersProducts = pd.merge(\n",
        "    left=orderItems,\n",
        "    right=products,\n",
        "    how='left',\n",
        "    left_on='product_id',\n",
        "    right_on='product_id'\n",
        ")\n",
        "\n",
        "ordersProducts.groupby(by='product_category_name').order_id.nunique().sort_values(ascending=False).head(10)"
      ]
    },
    {
      "cell_type": "markdown",
      "metadata": {
        "id": "g-wTrSJ06m33"
      },
      "source": [
        "Distribusi jumlah pesanan berdasarkan metode pembayaran dan rata - rata cicilan yang diambil (jika ada)"
      ]
    },
    {
      "cell_type": "code",
      "execution_count": 44,
      "metadata": {
        "colab": {
          "base_uri": "https://localhost:8080/",
          "height": 238
        },
        "id": "JuWzAXfEsvB7",
        "outputId": "2c37ef4b-2320-4109-957b-81bd820e71be"
      },
      "outputs": [
        {
          "data": {
            "text/html": [
              "<div>\n",
              "<style scoped>\n",
              "    .dataframe tbody tr th:only-of-type {\n",
              "        vertical-align: middle;\n",
              "    }\n",
              "\n",
              "    .dataframe tbody tr th {\n",
              "        vertical-align: top;\n",
              "    }\n",
              "\n",
              "    .dataframe thead th {\n",
              "        text-align: right;\n",
              "    }\n",
              "</style>\n",
              "<table border=\"1\" class=\"dataframe\">\n",
              "  <thead>\n",
              "    <tr style=\"text-align: right;\">\n",
              "      <th></th>\n",
              "      <th>order_id</th>\n",
              "      <th>payment_value</th>\n",
              "      <th>payment_installments</th>\n",
              "    </tr>\n",
              "    <tr>\n",
              "      <th>payment_type</th>\n",
              "      <th></th>\n",
              "      <th></th>\n",
              "      <th></th>\n",
              "    </tr>\n",
              "  </thead>\n",
              "  <tbody>\n",
              "    <tr>\n",
              "      <th>credit_card</th>\n",
              "      <td>76505</td>\n",
              "      <td>163.319021</td>\n",
              "      <td>3.507155</td>\n",
              "    </tr>\n",
              "    <tr>\n",
              "      <th>boleto</th>\n",
              "      <td>19784</td>\n",
              "      <td>145.034435</td>\n",
              "      <td>1.000000</td>\n",
              "    </tr>\n",
              "    <tr>\n",
              "      <th>voucher</th>\n",
              "      <td>3866</td>\n",
              "      <td>65.703354</td>\n",
              "      <td>1.000000</td>\n",
              "    </tr>\n",
              "    <tr>\n",
              "      <th>debit_card</th>\n",
              "      <td>1528</td>\n",
              "      <td>142.570170</td>\n",
              "      <td>1.000000</td>\n",
              "    </tr>\n",
              "    <tr>\n",
              "      <th>not_defined</th>\n",
              "      <td>3</td>\n",
              "      <td>0.000000</td>\n",
              "      <td>1.000000</td>\n",
              "    </tr>\n",
              "  </tbody>\n",
              "</table>\n",
              "</div>"
            ],
            "text/plain": [
              "              order_id  payment_value  payment_installments\n",
              "payment_type                                               \n",
              "credit_card      76505     163.319021              3.507155\n",
              "boleto           19784     145.034435              1.000000\n",
              "voucher           3866      65.703354              1.000000\n",
              "debit_card        1528     142.570170              1.000000\n",
              "not_defined          3       0.000000              1.000000"
            ]
          },
          "execution_count": 44,
          "metadata": {},
          "output_type": "execute_result"
        }
      ],
      "source": [
        "payments.groupby(by='payment_type').agg({\n",
        "    'order_id': 'nunique',\n",
        "    'payment_value': 'mean',\n",
        "    'payment_installments': 'mean'\n",
        "}).sort_values(by='order_id', ascending=False)"
      ]
    },
    {
      "cell_type": "markdown",
      "metadata": {
        "id": "zHwNL5InwKhF"
      },
      "source": [
        "Analisis RFM"
      ]
    },
    {
      "cell_type": "code",
      "execution_count": 45,
      "metadata": {
        "colab": {
          "base_uri": "https://localhost:8080/",
          "height": 424
        },
        "id": "SYF4i3tK85Cp",
        "outputId": "b3a6c112-5918-4a61-df8c-688efe67bf30"
      },
      "outputs": [
        {
          "data": {
            "text/html": [
              "<div>\n",
              "<style scoped>\n",
              "    .dataframe tbody tr th:only-of-type {\n",
              "        vertical-align: middle;\n",
              "    }\n",
              "\n",
              "    .dataframe tbody tr th {\n",
              "        vertical-align: top;\n",
              "    }\n",
              "\n",
              "    .dataframe thead th {\n",
              "        text-align: right;\n",
              "    }\n",
              "</style>\n",
              "<table border=\"1\" class=\"dataframe\">\n",
              "  <thead>\n",
              "    <tr style=\"text-align: right;\">\n",
              "      <th></th>\n",
              "      <th>customer_id</th>\n",
              "      <th>recency</th>\n",
              "      <th>frequency</th>\n",
              "      <th>monetary</th>\n",
              "    </tr>\n",
              "  </thead>\n",
              "  <tbody>\n",
              "    <tr>\n",
              "      <th>0</th>\n",
              "      <td>00012a2ce6f8dcda20d059ce98491703</td>\n",
              "      <td>338</td>\n",
              "      <td>1</td>\n",
              "      <td>114.74</td>\n",
              "    </tr>\n",
              "    <tr>\n",
              "      <th>1</th>\n",
              "      <td>000161a058600d5901f007fab4c27140</td>\n",
              "      <td>459</td>\n",
              "      <td>1</td>\n",
              "      <td>67.41</td>\n",
              "    </tr>\n",
              "    <tr>\n",
              "      <th>2</th>\n",
              "      <td>0001fd6190edaaf884bcaf3d49edf079</td>\n",
              "      <td>597</td>\n",
              "      <td>1</td>\n",
              "      <td>195.42</td>\n",
              "    </tr>\n",
              "    <tr>\n",
              "      <th>3</th>\n",
              "      <td>0002414f95344307404f0ace7a26f1d5</td>\n",
              "      <td>428</td>\n",
              "      <td>1</td>\n",
              "      <td>179.35</td>\n",
              "    </tr>\n",
              "    <tr>\n",
              "      <th>4</th>\n",
              "      <td>000379cdec625522490c315e70c7a9fb</td>\n",
              "      <td>199</td>\n",
              "      <td>1</td>\n",
              "      <td>107.01</td>\n",
              "    </tr>\n",
              "    <tr>\n",
              "      <th>...</th>\n",
              "      <td>...</td>\n",
              "      <td>...</td>\n",
              "      <td>...</td>\n",
              "      <td>...</td>\n",
              "    </tr>\n",
              "    <tr>\n",
              "      <th>99436</th>\n",
              "      <td>fffecc9f79fd8c764f843e9951b11341</td>\n",
              "      <td>203</td>\n",
              "      <td>1</td>\n",
              "      <td>81.36</td>\n",
              "    </tr>\n",
              "    <tr>\n",
              "      <th>99437</th>\n",
              "      <td>fffeda5b6d849fbd39689bb92087f431</td>\n",
              "      <td>149</td>\n",
              "      <td>1</td>\n",
              "      <td>63.13</td>\n",
              "    </tr>\n",
              "    <tr>\n",
              "      <th>99438</th>\n",
              "      <td>ffff42319e9b2d713724ae527742af25</td>\n",
              "      <td>127</td>\n",
              "      <td>1</td>\n",
              "      <td>214.13</td>\n",
              "    </tr>\n",
              "    <tr>\n",
              "      <th>99439</th>\n",
              "      <td>ffffa3172527f765de70084a7e53aae8</td>\n",
              "      <td>411</td>\n",
              "      <td>1</td>\n",
              "      <td>45.50</td>\n",
              "    </tr>\n",
              "    <tr>\n",
              "      <th>99440</th>\n",
              "      <td>ffffe8b65bbe3087b653a978c870db99</td>\n",
              "      <td>384</td>\n",
              "      <td>1</td>\n",
              "      <td>18.37</td>\n",
              "    </tr>\n",
              "  </tbody>\n",
              "</table>\n",
              "<p>99441 rows × 4 columns</p>\n",
              "</div>"
            ],
            "text/plain": [
              "                            customer_id  recency  frequency  monetary\n",
              "0      00012a2ce6f8dcda20d059ce98491703      338          1    114.74\n",
              "1      000161a058600d5901f007fab4c27140      459          1     67.41\n",
              "2      0001fd6190edaaf884bcaf3d49edf079      597          1    195.42\n",
              "3      0002414f95344307404f0ace7a26f1d5      428          1    179.35\n",
              "4      000379cdec625522490c315e70c7a9fb      199          1    107.01\n",
              "...                                 ...      ...        ...       ...\n",
              "99436  fffecc9f79fd8c764f843e9951b11341      203          1     81.36\n",
              "99437  fffeda5b6d849fbd39689bb92087f431      149          1     63.13\n",
              "99438  ffff42319e9b2d713724ae527742af25      127          1    214.13\n",
              "99439  ffffa3172527f765de70084a7e53aae8      411          1     45.50\n",
              "99440  ffffe8b65bbe3087b653a978c870db99      384          1     18.37\n",
              "\n",
              "[99441 rows x 4 columns]"
            ]
          },
          "execution_count": 45,
          "metadata": {},
          "output_type": "execute_result"
        }
      ],
      "source": [
        "ordersCustomers = pd.merge(\n",
        "    left=ordersCustomers,\n",
        "    right=payments,\n",
        "    how='left',\n",
        "    left_on='order_id',\n",
        "    right_on='order_id'\n",
        ")\n",
        "\n",
        "today = ordersCustomers.order_purchase_timestamp.max() + pd.DateOffset(days=1)\n",
        "\n",
        "rfm = ordersCustomers.groupby(by='customer_id').agg({\n",
        "    'order_purchase_timestamp': lambda x: (today - x.max()).days,\n",
        "    'order_id': 'nunique',\n",
        "    'payment_value': 'sum'\n",
        "}).reset_index()\n",
        "\n",
        "rfm.columns = ['customer_id', 'recency', 'frequency', 'monetary']\n",
        "rfm"
      ]
    },
    {
      "cell_type": "code",
      "execution_count": 46,
      "metadata": {
        "colab": {
          "base_uri": "https://localhost:8080/",
          "height": 363
        },
        "id": "dWWCezyu_wPM",
        "outputId": "d1d8e037-8e50-46d6-90af-3d378e6f430d"
      },
      "outputs": [
        {
          "data": {
            "text/html": [
              "<div>\n",
              "<style scoped>\n",
              "    .dataframe tbody tr th:only-of-type {\n",
              "        vertical-align: middle;\n",
              "    }\n",
              "\n",
              "    .dataframe tbody tr th {\n",
              "        vertical-align: top;\n",
              "    }\n",
              "\n",
              "    .dataframe thead th {\n",
              "        text-align: right;\n",
              "    }\n",
              "</style>\n",
              "<table border=\"1\" class=\"dataframe\">\n",
              "  <thead>\n",
              "    <tr style=\"text-align: right;\">\n",
              "      <th></th>\n",
              "      <th>customer_id</th>\n",
              "      <th>recency</th>\n",
              "      <th>frequency</th>\n",
              "      <th>monetary</th>\n",
              "    </tr>\n",
              "  </thead>\n",
              "  <tbody>\n",
              "    <tr>\n",
              "      <th>40289</th>\n",
              "      <td>683c54fc24d40ee9f8a6fc179fd9856c</td>\n",
              "      <td>773</td>\n",
              "      <td>1</td>\n",
              "      <td>75.06</td>\n",
              "    </tr>\n",
              "    <tr>\n",
              "      <th>3354</th>\n",
              "      <td>08c5351a6aca1c1589a38f244edeee9d</td>\n",
              "      <td>773</td>\n",
              "      <td>1</td>\n",
              "      <td>136.23</td>\n",
              "    </tr>\n",
              "    <tr>\n",
              "      <th>38013</th>\n",
              "      <td>622e13439d6b5a0b486c435618b2679e</td>\n",
              "      <td>765</td>\n",
              "      <td>1</td>\n",
              "      <td>40.95</td>\n",
              "    </tr>\n",
              "    <tr>\n",
              "      <th>52277</th>\n",
              "      <td>86dc2ffce2dfff336de2f386a786e574</td>\n",
              "      <td>763</td>\n",
              "      <td>1</td>\n",
              "      <td>0.00</td>\n",
              "    </tr>\n",
              "    <tr>\n",
              "      <th>68946</th>\n",
              "      <td>b106b360fe2ef8849fbbd056f777b4d5</td>\n",
              "      <td>745</td>\n",
              "      <td>1</td>\n",
              "      <td>109.34</td>\n",
              "    </tr>\n",
              "    <tr>\n",
              "      <th>20701</th>\n",
              "      <td>355077684019f7f60a031656bd7262b8</td>\n",
              "      <td>745</td>\n",
              "      <td>1</td>\n",
              "      <td>45.46</td>\n",
              "    </tr>\n",
              "    <tr>\n",
              "      <th>49183</th>\n",
              "      <td>7ec40b22510fdbea1b08921dd39e63d8</td>\n",
              "      <td>745</td>\n",
              "      <td>1</td>\n",
              "      <td>39.09</td>\n",
              "    </tr>\n",
              "    <tr>\n",
              "      <th>15428</th>\n",
              "      <td>27ab53f26192510ff85872aeb3759dcc</td>\n",
              "      <td>744</td>\n",
              "      <td>1</td>\n",
              "      <td>62.33</td>\n",
              "    </tr>\n",
              "    <tr>\n",
              "      <th>66443</th>\n",
              "      <td>aadd27185177fc7ac9b364898ac09343</td>\n",
              "      <td>744</td>\n",
              "      <td>1</td>\n",
              "      <td>101.44</td>\n",
              "    </tr>\n",
              "    <tr>\n",
              "      <th>13087</th>\n",
              "      <td>21a6abdf0197fbe57451bd0a1d3c59a2</td>\n",
              "      <td>744</td>\n",
              "      <td>1</td>\n",
              "      <td>65.77</td>\n",
              "    </tr>\n",
              "  </tbody>\n",
              "</table>\n",
              "</div>"
            ],
            "text/plain": [
              "                            customer_id  recency  frequency  monetary\n",
              "40289  683c54fc24d40ee9f8a6fc179fd9856c      773          1     75.06\n",
              "3354   08c5351a6aca1c1589a38f244edeee9d      773          1    136.23\n",
              "38013  622e13439d6b5a0b486c435618b2679e      765          1     40.95\n",
              "52277  86dc2ffce2dfff336de2f386a786e574      763          1      0.00\n",
              "68946  b106b360fe2ef8849fbbd056f777b4d5      745          1    109.34\n",
              "20701  355077684019f7f60a031656bd7262b8      745          1     45.46\n",
              "49183  7ec40b22510fdbea1b08921dd39e63d8      745          1     39.09\n",
              "15428  27ab53f26192510ff85872aeb3759dcc      744          1     62.33\n",
              "66443  aadd27185177fc7ac9b364898ac09343      744          1    101.44\n",
              "13087  21a6abdf0197fbe57451bd0a1d3c59a2      744          1     65.77"
            ]
          },
          "execution_count": 46,
          "metadata": {},
          "output_type": "execute_result"
        }
      ],
      "source": [
        "rfm.sort_values(by='recency', ascending=False).head(10)"
      ]
    },
    {
      "cell_type": "code",
      "execution_count": 47,
      "metadata": {
        "colab": {
          "base_uri": "https://localhost:8080/",
          "height": 363
        },
        "id": "AoQrt5xVAC-D",
        "outputId": "e90f9b5e-11d9-44f7-a28e-4ad9085bedb8"
      },
      "outputs": [
        {
          "data": {
            "text/html": [
              "<div>\n",
              "<style scoped>\n",
              "    .dataframe tbody tr th:only-of-type {\n",
              "        vertical-align: middle;\n",
              "    }\n",
              "\n",
              "    .dataframe tbody tr th {\n",
              "        vertical-align: top;\n",
              "    }\n",
              "\n",
              "    .dataframe thead th {\n",
              "        text-align: right;\n",
              "    }\n",
              "</style>\n",
              "<table border=\"1\" class=\"dataframe\">\n",
              "  <thead>\n",
              "    <tr style=\"text-align: right;\">\n",
              "      <th></th>\n",
              "      <th>customer_id</th>\n",
              "      <th>recency</th>\n",
              "      <th>frequency</th>\n",
              "      <th>monetary</th>\n",
              "    </tr>\n",
              "  </thead>\n",
              "  <tbody>\n",
              "    <tr>\n",
              "      <th>8546</th>\n",
              "      <td>1617b1357756262bfa56ab541c47bc16</td>\n",
              "      <td>384</td>\n",
              "      <td>1</td>\n",
              "      <td>13664.08</td>\n",
              "    </tr>\n",
              "    <tr>\n",
              "      <th>91985</th>\n",
              "      <td>ec5b2ba62e574342386871631fafd3fc</td>\n",
              "      <td>95</td>\n",
              "      <td>1</td>\n",
              "      <td>7274.88</td>\n",
              "    </tr>\n",
              "    <tr>\n",
              "      <th>77522</th>\n",
              "      <td>c6e2731c5b391845f6800c97401a43a9</td>\n",
              "      <td>612</td>\n",
              "      <td>1</td>\n",
              "      <td>6929.31</td>\n",
              "    </tr>\n",
              "    <tr>\n",
              "      <th>95124</th>\n",
              "      <td>f48d464a0baaea338cb25f816991ab1f</td>\n",
              "      <td>84</td>\n",
              "      <td>1</td>\n",
              "      <td>6922.21</td>\n",
              "    </tr>\n",
              "    <tr>\n",
              "      <th>24771</th>\n",
              "      <td>3fd6777bbce08a352fddd04e4a7cc8f6</td>\n",
              "      <td>511</td>\n",
              "      <td>1</td>\n",
              "      <td>6726.66</td>\n",
              "    </tr>\n",
              "    <tr>\n",
              "      <th>2065</th>\n",
              "      <td>05455dfa7cd02f13d132aa7a6a9729c6</td>\n",
              "      <td>328</td>\n",
              "      <td>1</td>\n",
              "      <td>6081.54</td>\n",
              "    </tr>\n",
              "    <tr>\n",
              "      <th>86908</th>\n",
              "      <td>df55c14d1476a9a3467f131269c2477f</td>\n",
              "      <td>565</td>\n",
              "      <td>1</td>\n",
              "      <td>4950.34</td>\n",
              "    </tr>\n",
              "    <tr>\n",
              "      <th>87397</th>\n",
              "      <td>e0a2412720e9ea4f26c1ac985f6a7358</td>\n",
              "      <td>98</td>\n",
              "      <td>1</td>\n",
              "      <td>4809.44</td>\n",
              "    </tr>\n",
              "    <tr>\n",
              "      <th>14282</th>\n",
              "      <td>24bbf5fd2f2e1b359ee7de94defc4a15</td>\n",
              "      <td>547</td>\n",
              "      <td>1</td>\n",
              "      <td>4764.34</td>\n",
              "    </tr>\n",
              "    <tr>\n",
              "      <th>23932</th>\n",
              "      <td>3d979689f636322c62418b6346b1c6d2</td>\n",
              "      <td>118</td>\n",
              "      <td>1</td>\n",
              "      <td>4681.78</td>\n",
              "    </tr>\n",
              "  </tbody>\n",
              "</table>\n",
              "</div>"
            ],
            "text/plain": [
              "                            customer_id  recency  frequency  monetary\n",
              "8546   1617b1357756262bfa56ab541c47bc16      384          1  13664.08\n",
              "91985  ec5b2ba62e574342386871631fafd3fc       95          1   7274.88\n",
              "77522  c6e2731c5b391845f6800c97401a43a9      612          1   6929.31\n",
              "95124  f48d464a0baaea338cb25f816991ab1f       84          1   6922.21\n",
              "24771  3fd6777bbce08a352fddd04e4a7cc8f6      511          1   6726.66\n",
              "2065   05455dfa7cd02f13d132aa7a6a9729c6      328          1   6081.54\n",
              "86908  df55c14d1476a9a3467f131269c2477f      565          1   4950.34\n",
              "87397  e0a2412720e9ea4f26c1ac985f6a7358       98          1   4809.44\n",
              "14282  24bbf5fd2f2e1b359ee7de94defc4a15      547          1   4764.34\n",
              "23932  3d979689f636322c62418b6346b1c6d2      118          1   4681.78"
            ]
          },
          "execution_count": 47,
          "metadata": {},
          "output_type": "execute_result"
        }
      ],
      "source": [
        "rfm.sort_values(by='monetary', ascending=False).head(10)"
      ]
    },
    {
      "cell_type": "markdown",
      "metadata": {
        "id": "zsyZjqak8DC2"
      },
      "source": [
        "## Visualization & Explanatory Analysis"
      ]
    },
    {
      "cell_type": "markdown",
      "metadata": {
        "id": "HZxOiQ6n8DC2"
      },
      "source": [
        "### Pertanyaan 1"
      ]
    },
    {
      "cell_type": "code",
      "execution_count": 48,
      "metadata": {
        "colab": {
          "base_uri": "https://localhost:8080/",
          "height": 540
        },
        "id": "1swJUdAD8DC2",
        "outputId": "490fcf50-fc0c-4fe4-e555-f47250045125"
      },
      "outputs": [
        {
          "data": {
            "image/png": "[encoded data removed]",
            "text/plain": [
              "<Figure size 1000x500 with 1 Axes>"
            ]
          },
          "metadata": {},
          "output_type": "display_data"
        }
      ],
      "source": [
        "orderCounts = orders.groupby(by='order_status').order_id.nunique().sort_values(ascending=False)\n",
        "orderCounts = orderCounts.reset_index()\n",
        "\n",
        "plt.figure(figsize=(10, 5))\n",
        "sns.barplot(x='order_status', y='order_id', data=orderCounts)\n",
        "\n",
        "plt.title('Distribusi Jumlah Pesanan berdasarkan Status Pesanan')\n",
        "plt.xlabel('Order Status')\n",
        "plt.ylabel('Total Orders')\n",
        "\n",
        "plt.xticks(rotation=45)\n",
        "plt.show()"
      ]
    },
    {
      "cell_type": "markdown",
      "metadata": {
        "id": "DgHI7CiU8DC2"
      },
      "source": [
        "### Pertanyaan 2"
      ]
    },
    {
      "cell_type": "code",
      "execution_count": 49,
      "metadata": {
        "colab": {
          "base_uri": "https://localhost:8080/",
          "height": 564
        },
        "id": "Go0lCsvO8DC2",
        "outputId": "81e26e03-3b34-4fcb-d1f5-4bd6c03878be"
      },
      "outputs": [
        {
          "data": {
            "image/png": "[encoded data removed]",
            "text/plain": [
              "<Figure size 1000x600 with 1 Axes>"
            ]
          },
          "metadata": {},
          "output_type": "display_data"
        }
      ],
      "source": [
        "plt.figure(figsize=(10, 6))\n",
        "sns.histplot(orders.shipment, bins=30, kde=True)\n",
        "\n",
        "plt.title('Perbedaan Waktu Estimasi Pengiriman dengan Pengiriman Aktual')\n",
        "plt.xlabel('Shipment Days')\n",
        "plt.ylabel('Frequency')\n",
        "plt.show()"
      ]
    },
    {
      "cell_type": "markdown",
      "metadata": {
        "id": "Dl3YjbhRmu2P"
      },
      "source": [
        "### Pertanyaan 3"
      ]
    },
    {
      "cell_type": "code",
      "execution_count": 50,
      "metadata": {
        "colab": {
          "base_uri": "https://localhost:8080/",
          "height": 612
        },
        "id": "z85CsVksmza6",
        "outputId": "f5475273-ac37-4ab7-8476-2d2950534407"
      },
      "outputs": [
        {
          "data": {
            "image/png": "[encoded data removed]",
            "text/plain": [
              "<Figure size 1000x600 with 1 Axes>"
            ]
          },
          "metadata": {},
          "output_type": "display_data"
        }
      ],
      "source": [
        "orderCounts = ordersCustomers.groupby(by='customer_city').order_id.nunique().sort_values(ascending=False).head(5)\n",
        "orderCounts = orderCounts.reset_index()\n",
        "\n",
        "plt.figure(figsize=(10, 6))\n",
        "sns.barplot(x='customer_city', y='order_id', data=orderCounts)\n",
        "\n",
        "plt.title('Distribusi Jumlah Pesanan berdasarkan Kota Pelanggan')\n",
        "plt.xlabel('Customer City')\n",
        "plt.ylabel('Total Orders')\n",
        "\n",
        "plt.xticks(rotation=30)\n",
        "plt.show()"
      ]
    },
    {
      "cell_type": "markdown",
      "metadata": {
        "id": "E2oz60oKqfkY"
      },
      "source": [
        "### Pertanyaan 4"
      ]
    },
    {
      "cell_type": "code",
      "execution_count": 51,
      "metadata": {
        "colab": {
          "base_uri": "https://localhost:8080/",
          "height": 564
        },
        "id": "jjYyB9I8qbeb",
        "outputId": "145a1459-3846-41a5-d3fb-5befff115143"
      },
      "outputs": [
        {
          "data": {
            "image/png": "[encoded data removed]",
            "text/plain": [
              "<Figure size 1000x600 with 1 Axes>"
            ]
          },
          "metadata": {},
          "output_type": "display_data"
        }
      ],
      "source": [
        "orderReviews = reviews.groupby(by='review_score').order_id.nunique().sort_values(ascending=False).reset_index()\n",
        "\n",
        "plt.figure(figsize=(10, 6))\n",
        "sns.barplot(x='review_score', y='order_id', data=orderReviews)\n",
        "\n",
        "plt.title('Distribusi Score Review')\n",
        "plt.xlabel('Score Review')\n",
        "plt.ylabel('Total Orders')\n",
        "\n",
        "plt.show()"
      ]
    },
    {
      "cell_type": "markdown",
      "metadata": {
        "id": "fRjqbU57sijO"
      },
      "source": [
        "### Pertanyaan 5"
      ]
    },
    {
      "cell_type": "code",
      "execution_count": 52,
      "metadata": {
        "colab": {
          "base_uri": "https://localhost:8080/",
          "height": 674
        },
        "id": "6vDjNfxLwDGL",
        "outputId": "6d490f93-f698-4703-aa66-e23a93cad4bf"
      },
      "outputs": [
        {
          "data": {
            "image/png": "[encoded data removed]",
            "text/plain": [
              "<Figure size 1000x600 with 1 Axes>"
            ]
          },
          "metadata": {},
          "output_type": "display_data"
        }
      ],
      "source": [
        "orderCounts = ordersProducts.groupby(by='product_category_name').order_id.nunique().sort_values(ascending=False).head(10).reset_index()\n",
        "\n",
        "plt.figure(figsize=(10, 6))\n",
        "sns.barplot(x='product_category_name', y='order_id', data=orderCounts)\n",
        "\n",
        "plt.title('Kategori Barang yang Banyak Dipesan')\n",
        "plt.xlabel('Kategori')\n",
        "plt.ylabel('Total Orders')\n",
        "\n",
        "plt.xticks(rotation=45)\n",
        "plt.show()"
      ]
    },
    {
      "cell_type": "markdown",
      "metadata": {
        "id": "mIxH_nrQyuoG"
      },
      "source": [
        "### Pertanyaan 6"
      ]
    },
    {
      "cell_type": "code",
      "execution_count": 53,
      "metadata": {
        "colab": {
          "base_uri": "https://localhost:8080/",
          "height": 472
        },
        "id": "lUeKFkumyw_G",
        "outputId": "412c2b66-a23a-4e0c-cf71-d3bad51f0195"
      },
      "outputs": [
        {
          "data": {
            "image/png": "[encoded data removed]",
            "text/plain": [
              "<Figure size 640x480 with 1 Axes>"
            ]
          },
          "metadata": {},
          "output_type": "display_data"
        }
      ],
      "source": [
        "orderPayments = payments.groupby(by='payment_type').agg({\n",
        "    'order_id': 'nunique',\n",
        "    'payment_value': 'mean',\n",
        "}).sort_values(by='order_id', ascending=False)\n",
        "\n",
        "sns.barplot(x=orderPayments.index, y=orderPayments.order_id)\n",
        "plt.title('Distribusi Jumlah Pesanan berdasarkan Metode Pembayaran')\n",
        "plt.xlabel('Payment Type')\n",
        "plt.ylabel('Total Orders')\n",
        "\n",
        "plt.show()"
      ]
    },
    {
      "cell_type": "markdown",
      "metadata": {
        "id": "_WeHlCeX8DC2"
      },
      "source": [
        "## Conclusion"
      ]
    },
    {
      "cell_type": "markdown",
      "metadata": {
        "id": "ZTcyR48Y8DC2"
      },
      "source": [
        "- Pertanyaan 1 : Sebagian besar pesanan berhasil dikirim, tapi perlu diperhatikan untuk pesanan yang dibatalkan maupun terkait stok barang\n",
        "- Pertanyaan 2 : Proses pengiriman berjalan dengan baik karena rata - rata pengiriman aktual lebih cepat 12 hari daripada estimasi namun masih perlu dibenahi lagi karena pengiriman yang terlambat juga tidak sedikit\n",
        "- Pertanyaan 3 : Top 5 kota dengan pelanggan terbanyak yaitu Sao Paulo, Rio de Janeiro, Belo Horizonte, Brazilia, Curitiba\n",
        "- Pertanyaan 4 : Score review tertinggi berada di nilai 5 tapi yang perlu diperhatikan score review nilai 1 berada di peringkat ketiga paling banyak sehingga diperlukan pembenahan dan perbaikan layanan\n",
        "- Pertanyaan 5 : Top 5 kategori paling laris adalah terkait perabotan rumah (peralatan tidur, peralatan mandi, meja), kecantikan dan kesehatan, olahraga, perlengkapan komputer, dekorasi rumah\n",
        "- Pertanyaan 6 : Metode pembayaran yang paling digunakan adalah melalui kartu kredit, kemudian diikuti oleh boleto, voucher, dan kartu debit serta untuk kartu kredit rata - rata cicilan yang diambil sebanyak 3 kali"
      ]
    }
  ],
  "metadata": {
    "colab": {
      "provenance": []
    },
    "kernelspec": {
      "display_name": "Python 3",
      "language": "python",
      "name": "python3"
    },
    "language_info": {
      "codemirror_mode": {
        "name": "ipython",
        "version": 3
      },
      "file_extension": ".py",
      "mimetype": "text/x-python",
      "name": "python",
      "nbconvert_exporter": "python",
      "pygments_lexer": "ipython3",
      "version": "3.12.6"
    },
    "orig_nbformat": 4,
    "vscode": {
      "interpreter": {
        "hash": "972b3bf27e332e87b5379f2791f6ef9dfc79c71018c370b0d7423235e20fe4d7"
      }
    }
  },
  "nbformat": 4,
  "nbformat_minor": 0
}
